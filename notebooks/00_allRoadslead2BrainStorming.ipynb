{
 "cells": [
  {
   "cell_type": "markdown",
   "id": "aae38cec",
   "metadata": {},
   "source": [
    "## Notebook journey\n",
    "\n",
    "`the notebook have all the ideas about how i think to made all of this and specially the markdown text i write after each step to evaluate my brain data solving read it carefully`"
   ]
  },
  {
   "cell_type": "code",
   "execution_count": 1,
   "id": "25cb86c5",
   "metadata": {},
   "outputs": [],
   "source": [
    "import pandas as pd\n",
    "import numpy as np\n",
    "import matplotlib.pyplot as plt\n",
    "import seaborn as sns\n",
    "from sklearn.ensemble import RandomForestClassifier, VotingClassifier, GradientBoostingClassifier\n",
    "from sklearn.linear_model import LogisticRegression\n",
    "from sklearn.svm import SVC\n",
    "from sklearn.preprocessing import RobustScaler, StandardScaler\n",
    "from sklearn.feature_selection import VarianceThreshold, SelectKBest, f_classif, RFE\n",
    "from sklearn.model_selection import cross_val_score, StratifiedKFold, GridSearchCV\n",
    "from sklearn.metrics import classification_report, confusion_matrix, roc_curve, auc, precision_recall_curve\n",
    "from sklearn.utils.class_weight import compute_class_weight\n",
    "from imblearn.over_sampling import SMOTE\n",
    "from imblearn.under_sampling import RandomUnderSampler\n",
    "from imblearn.pipeline import Pipeline as ImbPipeline\n",
    "import xgboost as xgb\n",
    "import warnings\n",
    "warnings.filterwarnings('ignore')"
   ]
  },
  {
   "cell_type": "code",
   "execution_count": 2,
   "id": "160ef9a5",
   "metadata": {},
   "outputs": [],
   "source": [
    "np.random.seed(42)\n",
    "plt.style.use('default')"
   ]
  },
  {
   "cell_type": "markdown",
   "id": "429389e9",
   "metadata": {},
   "source": [
    "## Loading Data "
   ]
  },
  {
   "cell_type": "code",
   "execution_count": 3,
   "id": "17cba131",
   "metadata": {},
   "outputs": [],
   "source": [
    "train_data = pd.read_csv('../!0Withsecure/data/train_data.csv', header=None)\n",
    "train_labels = pd.read_csv('../!0Withsecure/data/train_labels.csv', header=None).values.ravel()\n",
    "test_data = pd.read_csv('../!0Withsecure/data/test_data.csv', header=None)\n",
    "\n",
    "# print(train_data.head())\n",
    "# print(train_labels.head())\n",
    "# print(test_data.head())"
   ]
  },
  {
   "cell_type": "code",
   "execution_count": 4,
   "id": "7a38b1d7",
   "metadata": {},
   "outputs": [
    {
     "name": "stdout",
     "output_type": "stream",
     "text": [
      "Training data shape: (3750, 10000)\n",
      "Training labels shape: (3750,)\n",
      "Test data shape: (1250, 10000)\n"
     ]
    }
   ],
   "source": [
    "print(f\"Training data shape: {train_data.shape}\")\n",
    "print(f\"Training labels shape: {train_labels.shape}\")\n",
    "print(f\"Test data shape: {test_data.shape}\")"
   ]
  },
  {
   "cell_type": "markdown",
   "id": "de92c701",
   "metadata": {},
   "source": [
    "## Check class distribution in train labels data "
   ]
  },
  {
   "cell_type": "code",
   "execution_count": 5,
   "id": "26c46158",
   "metadata": {},
   "outputs": [
    {
     "data": {
      "text/plain": [
       "array([-1,  1])"
      ]
     },
     "execution_count": 5,
     "metadata": {},
     "output_type": "execute_result"
    }
   ],
   "source": [
    "unique_labels = np.unique(train_labels)\n",
    "unique_labels"
   ]
  },
  {
   "cell_type": "code",
   "execution_count": 6,
   "id": "5ded650e",
   "metadata": {},
   "outputs": [
    {
     "name": "stdout",
     "output_type": "stream",
     "text": [
      "Count of label -1: 373\n"
     ]
    }
   ],
   "source": [
    "# get count of label -1 and 1\n",
    "print(f\"Count of label -1: {np.sum(train_labels == -1)}\")"
   ]
  },
  {
   "cell_type": "code",
   "execution_count": 7,
   "id": "0c9bc67b",
   "metadata": {},
   "outputs": [
    {
     "name": "stdout",
     "output_type": "stream",
     "text": [
      "Count of label 1: 3377\n"
     ]
    }
   ],
   "source": [
    "print(f\"Count of label 1: {np.sum(train_labels == 1)}\")"
   ]
  },
  {
   "cell_type": "code",
   "execution_count": 8,
   "id": "d898dd9e",
   "metadata": {},
   "outputs": [
    {
     "name": "stdout",
     "output_type": "stream",
     "text": [
      "Class imbalance ratio: 9.05:1\n"
     ]
    }
   ],
   "source": [
    "class_counts = np.array([np.sum(train_labels == -1), np.sum(train_labels == 1)])\n",
    "print(f\"Class imbalance ratio: {class_counts[1]/class_counts[0]:.2f}:1\")"
   ]
  },
  {
   "cell_type": "markdown",
   "id": "b6a489f3",
   "metadata": {},
   "source": [
    "## Description - Statistics "
   ]
  },
  {
   "cell_type": "code",
   "execution_count": 9,
   "id": "4dc2f67f",
   "metadata": {},
   "outputs": [
    {
     "name": "stdout",
     "output_type": "stream",
     "text": [
      "Mean feature variance: 3130424.963\n",
      "Mean feature mean: 23.652\n",
      "Features with zero variance: 0\n",
      "Features with very low variance (<0.01): 0\n"
     ]
    }
   ],
   "source": [
    "# Basic statistics\n",
    "print(f\"Mean feature variance: {train_data.var(axis=0).mean():.3f}\")\n",
    "print(f\"Mean feature mean: {train_data.mean(axis=0).mean():.3f}\")\n",
    "print(f\"Features with zero variance: {(train_data.var(axis=0) == 0).sum()}\")\n",
    "print(f\"Features with very low variance (<0.01): {(train_data.var(axis=0) < 0.01).sum()}\")\n"
   ]
  },
  {
   "cell_type": "code",
   "execution_count": 10,
   "id": "f8cabada",
   "metadata": {},
   "outputs": [
    {
     "name": "stdout",
     "output_type": "stream",
     "text": [
      "Missing values in train_data: 0\n",
      "Missing values in test_data: 0\n",
      "Data types: [dtype('float64')]\n"
     ]
    }
   ],
   "source": [
    "print(f\"Missing values in train_data: {train_data.isnull().sum().sum()}\")\n",
    "print(f\"Missing values in test_data: {test_data.isnull().sum().sum()}\")\n",
    "print(f\"Data types: {train_data.dtypes.unique()}\")"
   ]
  },
  {
   "cell_type": "code",
   "execution_count": 11,
   "id": "f73c258a",
   "metadata": {},
   "outputs": [
    {
     "name": "stdout",
     "output_type": "stream",
     "text": [
      "Training data - Mean: 23.652, Std: 584.122\n",
      "Test data - Mean: 22.117, Std: 584.220\n"
     ]
    }
   ],
   "source": [
    "print(f\"Training data - Mean: {train_data.mean().mean():.3f}, Std: {train_data.std().mean():.3f}\")\n",
    "print(f\"Test data - Mean: {test_data.mean().mean():.3f}, Std: {test_data.std().mean():.3f}\")"
   ]
  },
  {
   "cell_type": "code",
   "execution_count": 12,
   "id": "8fdbf955",
   "metadata": {},
   "outputs": [
    {
     "name": "stdout",
     "output_type": "stream",
     "text": [
      "Features with zero variance: 0\n",
      "Features with very low variance (<0.01): 0\n"
     ]
    }
   ],
   "source": [
    "train_var = train_data.var()\n",
    "print(f\"Features with zero variance: {(train_var == 0).sum()}\")\n",
    "print(f\"Features with very low variance (<0.01): {(train_var < 0.01).sum()}\")"
   ]
  },
  {
   "cell_type": "markdown",
   "id": "4fd861f6",
   "metadata": {},
   "source": [
    "## Visualization\n",
    "\n",
    "    - to understand more about the data "
   ]
  },
  {
   "cell_type": "code",
   "execution_count": 13,
   "id": "bb7d584d",
   "metadata": {},
   "outputs": [
    {
     "data": {
      "image/png": "[encoded data removed]",
      "text/plain": [
       "<Figure size 1000x600 with 2 Axes>"
      ]
     },
     "metadata": {},
     "output_type": "display_data"
    }
   ],
   "source": [
    "# Visualize class distribution\n",
    "plt.figure(figsize=(10, 6))\n",
    "plt.subplot(1, 2, 1)\n",
    "plt.bar(['Class -1', 'Class +1'], [class_counts[0], class_counts[1]], \n",
    "        color=['red', 'blue'], alpha=0.7)\n",
    "plt.title('Class Distribution in Training Data')\n",
    "plt.ylabel('Count')\n",
    "plt.ylim(0, max(class_counts) * 1.1)\n",
    "\n",
    "plt.subplot(1, 2, 2)\n",
    "plt.pie([class_counts[0], class_counts[1]], labels=['Class -1', 'Class +1'], \n",
    "        autopct='%1.1f%%', colors=['red', 'blue'])\n",
    "plt.title('Class Distribution (Percentage)')\n",
    "\n",
    "plt.tight_layout()\n",
    "plt.savefig('screens/class_distribution.png', dpi=300, bbox_inches='tight')\n",
    "plt.show()"
   ]
  },
  {
   "cell_type": "code",
   "execution_count": 14,
   "id": "61457302",
   "metadata": {},
   "outputs": [
    {
     "data": {
      "image/png": "[encoded data removed]",
      "text/plain": [
       "<Figure size 1500x500 with 3 Axes>"
      ]
     },
     "metadata": {},
     "output_type": "display_data"
    }
   ],
   "source": [
    "plt.figure(figsize=(15, 5))\n",
    "plt.subplot(1, 3, 1)\n",
    "plt.hist(train_data.mean(), bins=50, alpha=0.7, color='blue')\n",
    "plt.title('Distribution of Feature Means')\n",
    "plt.xlabel('Mean Value')\n",
    "plt.ylabel('Count')\n",
    "\n",
    "plt.subplot(1, 3, 2)\n",
    "plt.hist(train_data.std(), bins=50, alpha=0.7, color='green')\n",
    "plt.title('Distribution of Feature Standard Deviations')\n",
    "plt.xlabel('Standard Deviation')\n",
    "plt.ylabel('Count')\n",
    "\n",
    "plt.subplot(1, 3, 3)\n",
    "plt.hist(train_var, bins=50, alpha=0.7, color='red')\n",
    "plt.title('Distribution of Feature Variances')\n",
    "plt.xlabel('Variance')\n",
    "plt.ylabel('Count')\n",
    "\n",
    "plt.tight_layout()\n",
    "plt.savefig('screens/feature_distributions.png', dpi=300, bbox_inches='tight')\n",
    "plt.show()"
   ]
  },
  {
   "cell_type": "code",
   "execution_count": 15,
   "id": "bed309b9",
   "metadata": {},
   "outputs": [],
   "source": [
    "# Sample feature distributions by class\n",
    "sample_feature_1 = train_data.iloc[:, 100]\n",
    "sample_feature_2 = train_data.iloc[:, 500]"
   ]
  },
  {
   "cell_type": "code",
   "execution_count": 16,
   "id": "e6f837aa",
   "metadata": {},
   "outputs": [
    {
     "data": {
      "image/png": "[encoded data removed]",
      "text/plain": [
       "<Figure size 1200x800 with 4 Axes>"
      ]
     },
     "metadata": {},
     "output_type": "display_data"
    }
   ],
   "source": [
    "fig, axes = plt.subplots(2, 2, figsize=(12, 8))\n",
    "for i, (feature_data, feature_idx) in enumerate([(sample_feature_1, 100), (sample_feature_2, 500)]):\n",
    "    class_neg1 = feature_data[train_labels == -1]\n",
    "    class_pos1 = feature_data[train_labels == 1]\n",
    "    \n",
    "    axes[1, i].hist(class_neg1, bins=30, alpha=0.6, label='Class -1', density=True, color='red')\n",
    "    axes[1, i].hist(class_pos1, bins=30, alpha=0.6, label='Class +1', density=True, color='blue')\n",
    "    axes[1, i].set_title(f'Feature {feature_idx} by Class')\n",
    "    axes[1, i].set_xlabel('Value')\n",
    "    axes[1, i].set_ylabel('Density')\n",
    "    axes[1, i].legend()\n",
    "\n",
    "plt.tight_layout()\n",
    "plt.show()"
   ]
  },
  {
   "cell_type": "markdown",
   "id": "b21ff029",
   "metadata": {},
   "source": [
    "## Feature Engineering"
   ]
  },
  {
   "cell_type": "code",
   "execution_count": 17,
   "id": "caf093a2",
   "metadata": {},
   "outputs": [],
   "source": [
    "X_train = train_data.values\n",
    "y_train = train_labels\n",
    "X_test = test_data.values"
   ]
  },
  {
   "cell_type": "markdown",
   "id": "9c5eee77",
   "metadata": {},
   "source": [
    "### Remove low-variance features "
   ]
  },
  {
   "cell_type": "code",
   "execution_count": 18,
   "id": "04d71270",
   "metadata": {},
   "outputs": [],
   "source": [
    "variance_selector = VarianceThreshold(threshold=0.01)\n",
    "X_train_var = variance_selector.fit_transform(X_train)\n",
    "X_test_var = variance_selector.transform(X_test)"
   ]
  },
  {
   "cell_type": "code",
   "execution_count": 19,
   "id": "80a6be53",
   "metadata": {},
   "outputs": [
    {
     "name": "stdout",
     "output_type": "stream",
     "text": [
      "  Removed 0 low-variance features\n",
      "  Remaining: 10000 features\n"
     ]
    }
   ],
   "source": [
    "removed_features = X_train.shape[1] - X_train_var.shape[1]\n",
    "print(f\"  Removed {removed_features} low-variance features\")\n",
    "print(f\"  Remaining: {X_train_var.shape[1]} features\")\n",
    "\n",
    "#   Removed 0 low-variance features\n",
    "#   Remaining: 10000 features"
   ]
  },
  {
   "cell_type": "markdown",
   "id": "6974d492",
   "metadata": {},
   "source": [
    "### Feature scaling "
   ]
  },
  {
   "cell_type": "code",
   "execution_count": 20,
   "id": "b7ec7c51",
   "metadata": {},
   "outputs": [],
   "source": [
    "scaler = RobustScaler()\n",
    "X_train_scaled = scaler.fit_transform(X_train_var)\n",
    "X_test_scaled = scaler.transform(X_test_var)"
   ]
  },
  {
   "cell_type": "markdown",
   "id": "0252d83f",
   "metadata": {},
   "source": [
    "### Feature Selection "
   ]
  },
  {
   "cell_type": "code",
   "execution_count": 21,
   "id": "67e4ed07",
   "metadata": {},
   "outputs": [],
   "source": [
    "n_features_to_select = min(2000, X_train_scaled.shape[1])\n",
    "feature_selector = SelectKBest(score_func=f_classif, k=n_features_to_select)\n",
    "X_train_selected = feature_selector.fit_transform(X_train_scaled, y_train)\n",
    "X_test_selected = feature_selector.transform(X_test_scaled)"
   ]
  },
  {
   "cell_type": "code",
   "execution_count": 22,
   "id": "b55478d3",
   "metadata": {},
   "outputs": [
    {
     "name": "stdout",
     "output_type": "stream",
     "text": [
      "  Selected top 2000 most informative features\n"
     ]
    }
   ],
   "source": [
    "print(f\"  Selected top {X_train_selected.shape[1]} most informative features\")"
   ]
  },
  {
   "cell_type": "code",
   "execution_count": 23,
   "id": "5198ed58",
   "metadata": {},
   "outputs": [
    {
     "data": {
      "image/png": "[encoded data removed]",
      "text/plain": [
       "<Figure size 1200x500 with 2 Axes>"
      ]
     },
     "metadata": {},
     "output_type": "display_data"
    }
   ],
   "source": [
    "## vizualize feature importance\n",
    "feature_scores = feature_selector.scores_\n",
    "plt.figure(figsize=(12, 5))\n",
    "\n",
    "plt.subplot(1, 2, 1)\n",
    "plt.hist(feature_scores, bins=50, alpha=0.7, color='purple')\n",
    "plt.title('Distribution of Feature F-Scores')\n",
    "plt.xlabel('F-Score')\n",
    "plt.ylabel('Count')\n",
    "plt.axvline(x=np.sort(feature_scores)[-n_features_to_select], color='red', \n",
    "            linestyle='--', label=f'Selection threshold')\n",
    "plt.legend()\n",
    "\n",
    "plt.subplot(1, 2, 2)\n",
    "top_scores = np.sort(feature_scores)[::-1][:5000]\n",
    "plt.plot(top_scores)\n",
    "plt.title('Top 1000 Feature Scores (Ranked)')\n",
    "plt.xlabel('Feature Rank')\n",
    "plt.ylabel('F-Score')\n",
    "plt.axvline(x=n_features_to_select, color='red', linestyle='--', \n",
    "            label=f'Selected top {n_features_to_select}')\n",
    "plt.legend()\n",
    "\n",
    "plt.tight_layout()\n",
    "#plt.savefig('screens/feature_selection.png', dpi=300, bbox_inches='tight')\n",
    "plt.show()"
   ]
  },
  {
   "cell_type": "markdown",
   "id": "bfc2ef80",
   "metadata": {},
   "source": [
    "### Model feature selection "
   ]
  },
  {
   "cell_type": "markdown",
   "id": "0b152e36",
   "metadata": {},
   "source": [
    "    -- Class Weights"
   ]
  },
  {
   "cell_type": "code",
   "execution_count": 24,
   "id": "6948e543",
   "metadata": {},
   "outputs": [
    {
     "name": "stdout",
     "output_type": "stream",
     "text": [
      "Class weights: {-1: 5.02680965147453, 1: 0.5552265324252295}\n"
     ]
    }
   ],
   "source": [
    "class_weights = compute_class_weight('balanced', classes=unique_labels, y=y_train)\n",
    "class_weight_dict = dict(zip(unique_labels, class_weights))\n",
    "print(f\"Class weights: {class_weight_dict}\")"
   ]
  },
  {
   "cell_type": "markdown",
   "id": "5ab1adf2",
   "metadata": {},
   "source": [
    "    -- SMOTE for oversampling"
   ]
  },
  {
   "cell_type": "code",
   "execution_count": 25,
   "id": "0fadc2f0",
   "metadata": {},
   "outputs": [
    {
     "name": "stdout",
     "output_type": "stream",
     "text": [
      "After SMOTE - Class distribution: [3377 3377]\n"
     ]
    }
   ],
   "source": [
    "# smote = SMOTE(random_state=42, k_neighbors=3)\n",
    "# X_train_smote, y_train = smote.fit_resample(X_train_selected, y_train)\n",
    "# print(f\"After SMOTE - Class distribution: {np.bincount(y_train.astype(int) + 1)}\")\n",
    "\n",
    "smote = SMOTE(random_state=42, k_neighbors=3)\n",
    "X_train_smote, y_train_smote = smote.fit_resample(X_train_selected, y_train)\n",
    "print(f\"After SMOTE - Class distribution: {np.array([np.sum(y_train_smote == -1), np.sum(y_train_smote == 1)])}\")"
   ]
  },
  {
   "cell_type": "markdown",
   "id": "4167f3a3",
   "metadata": {},
   "source": [
    "    -- Undersampling for comparison"
   ]
  },
  {
   "cell_type": "code",
   "execution_count": 26,
   "id": "fb61a533",
   "metadata": {},
   "outputs": [
    {
     "name": "stdout",
     "output_type": "stream",
     "text": [
      "After under-sampling - Class distribution: [373 373]\n"
     ]
    }
   ],
   "source": [
    "# under_sampler = RandomUnderSampler(random_state=42)\n",
    "# X_train_under, y_train_under = under_sampler.fit_resample(X_train_selected, y_train)\n",
    "# print(f\"After under-sampling - Class distribution: {np.array([np.sum(y_train_under == -1), np.sum(y_train_under == 1)])}\")\n",
    "\n",
    "under_sampler = RandomUnderSampler(random_state=42)\n",
    "X_train_under, y_train_under = under_sampler.fit_resample(X_train_selected, y_train)\n",
    "print(f\"After under-sampling - Class distribution: {np.array([np.sum(y_train_under == -1), np.sum(y_train_under == 1)])}\")"
   ]
  },
  {
   "cell_type": "markdown",
   "id": "d1eb9229",
   "metadata": {},
   "source": [
    " **when we try to make undersampling we face a problem that's we overwriting y_train with SMOTE and we make undersampling so we are transforming it again this causing a big really confusion in the data flow**\n"
   ]
  },
  {
   "cell_type": "markdown",
   "id": "8efece3f",
   "metadata": {},
   "source": [
    "-- Class Weights\t-1, 1\ty_train (original) - we should use original y_train \n",
    "\n",
    "-- XGBoost\t0, 1\ty_train_transformed - we should make label encoder to convert it to 0,1 \n",
    "\n",
    "-- SMOTE + XGBoost\t0, 1\ty_train_smote_transformed - same as y_train_transformed\n",
    "\n",
    "-- SMOTE + others\t-1, 1\ty_train_smote  - we should use original y_train "
   ]
  },
  {
   "cell_type": "code",
   "execution_count": 27,
   "id": "289fc92c",
   "metadata": {},
   "outputs": [],
   "source": [
    "# XGBoost requires labels in [0, 1] range not [-1, 1]\n",
    "from sklearn.preprocessing import LabelEncoder\n",
    "xgb_label_encoder = LabelEncoder()\n",
    "y_train_original = y_train  # Keep original for reference\n",
    "y_train_transformed = xgb_label_encoder.fit_transform(y_train) # transforming without smote\n",
    "y_train_smote_transformed = xgb_label_encoder.transform(y_train_smote) # transformaing with smote "
   ]
  },
  {
   "cell_type": "markdown",
   "id": "e279700f",
   "metadata": {},
   "source": [
    "## Model Training"
   ]
  },
  {
   "cell_type": "code",
   "execution_count": 28,
   "id": "b69c8fbd",
   "metadata": {},
   "outputs": [],
   "source": [
    "models = {\n",
    "    'Random Forest (Class Weights)': RandomForestClassifier(\n",
    "        n_estimators=200, max_depth=10, min_samples_split=5,\n",
    "        min_samples_leaf=2, max_features='sqrt', random_state=42,\n",
    "        n_jobs=-1, class_weight='balanced'\n",
    "    ),\n",
    "    'XGBoost (Class Weights)': xgb.XGBClassifier(\n",
    "        n_estimators=200, max_depth=6, learning_rate=0.1,\n",
    "        subsample=0.8, colsample_bytree=0.8, reg_alpha=0.1,\n",
    "        reg_lambda=1.0, random_state=42, n_jobs=-1, \n",
    "        scale_pos_weight=class_counts[1]/class_counts[0]  # Handle imbalance\n",
    "    ),\n",
    "    'Logistic Regression (Class Weights)': LogisticRegression(\n",
    "        C=0.1, penalty='elasticnet', l1_ratio=0.5, solver='saga',\n",
    "        max_iter=1000, random_state=42, class_weight='balanced'\n",
    "    ),\n",
    "    'SVM (Class Weights)': SVC(\n",
    "        C=1.0, kernel='rbf', gamma='scale', probability=True,\n",
    "        random_state=42, class_weight='balanced'\n",
    "    ),\n",
    "    'Random Forest (SMOTE)': RandomForestClassifier(\n",
    "        n_estimators=200, max_depth=10, min_samples_split=5,\n",
    "        min_samples_leaf=2, max_features='sqrt', random_state=42,\n",
    "        n_jobs=-1\n",
    "    ),\n",
    "    'XGBoost (SMOTE)': xgb.XGBClassifier(\n",
    "        n_estimators=200, max_depth=6, learning_rate=0.1,\n",
    "        subsample=0.8, colsample_bytree=0.8, reg_alpha=0.1,\n",
    "        reg_lambda=1.0, random_state=42, n_jobs=-1\n",
    "    )\n",
    "}"
   ]
  },
  {
   "cell_type": "code",
   "execution_count": 29,
   "id": "5f274c0b",
   "metadata": {},
   "outputs": [],
   "source": [
    "cv = StratifiedKFold(n_splits=5, shuffle=True, random_state=42)\n",
    "cv_results = {}"
   ]
  },
  {
   "cell_type": "markdown",
   "id": "5441d7c6",
   "metadata": {},
   "source": [
    "### Evaluating Model with Different strategies"
   ]
  },
  {
   "cell_type": "markdown",
   "id": "b3646468",
   "metadata": {},
   "source": [
    "    -- Class Weights"
   ]
  },
  {
   "cell_type": "code",
   "execution_count": 30,
   "id": "66c6325d",
   "metadata": {},
   "outputs": [],
   "source": [
    "# for name, model in models.items():\n",
    "#     if 'Class Weights' in name:\n",
    "#         scores = cross_val_score(model, X_train_selected, y_train_original, cv=cv, scoring='roc_auc')\n",
    "#         cv_results[name] = scores\n",
    "#         print(f\"  {name}: {scores.mean():.4f} (+/- {scores.std() * 2:.4f})\")"
   ]
  },
  {
   "cell_type": "markdown",
   "id": "2ad46130",
   "metadata": {},
   "source": [
    "    -- SMOTE for oversampling"
   ]
  },
  {
   "cell_type": "code",
   "execution_count": 31,
   "id": "0250e74f",
   "metadata": {},
   "outputs": [],
   "source": [
    "# for name, model in models.items():\n",
    "#     if 'SMOTE' in name:\n",
    "#         # Transform SMOTE labels for XGBoost\n",
    "#         y_train_smote_transformed = xgb_label_encoder.transform(y_train_smote)\n",
    "#         scores = cross_val_score(model, X_train_smote, y_train_smote_transformed, cv=cv, scoring='roc_auc')\n",
    "#         cv_results[name] = scores\n",
    "#         print(f\"  {name}: {scores.mean():.4f} (+/- {scores.std() * 2:.4f})\")"
   ]
  },
  {
   "cell_type": "markdown",
   "id": "a6badbe1",
   "metadata": {},
   "source": [
    "    `i made every model in single way to see how it perform with the data` \n",
    "    -- but after seeing all the results i prefer to put all the code in one block"
   ]
  },
  {
   "cell_type": "code",
   "execution_count": 33,
   "id": "4c6a9791",
   "metadata": {},
   "outputs": [
    {
     "name": "stdout",
     "output_type": "stream",
     "text": [
      "  Evaluating Random Forest (Class Weights) with Class Weights (original labels)\n",
      "  Random Forest (Class Weights): 0.7013 (+/- 0.0341)\n",
      "  Evaluating XGBoost (Class Weights) with XGBoost (transformed labels)\n",
      "  XGBoost (Class Weights): 0.6637 (+/- 0.0737)\n",
      "  Evaluating Logistic Regression (Class Weights) with Class Weights (original labels)\n",
      "  Logistic Regression (Class Weights): 0.7655 (+/- 0.0585)\n",
      "  Evaluating SVM (Class Weights) with Class Weights (original labels)\n",
      "  SVM (Class Weights): 0.9759 (+/- 0.0153)\n",
      "  Evaluating Random Forest (SMOTE) with SMOTE (original labels)\n",
      "  Random Forest (SMOTE): 0.9981 (+/- 0.0011)\n",
      "  Evaluating XGBoost (SMOTE) with XGBoost + SMOTE (transformed labels)\n",
      "  XGBoost (SMOTE): 0.9986 (+/- 0.0010)\n"
     ]
    }
   ],
   "source": [
    "for name, model in models.items():\n",
    "    if 'XGBoost' in name and 'SMOTE' in name:\n",
    "        print(f\"  Evaluating {name} with XGBoost + SMOTE (transformed labels)\")\n",
    "        scores = cross_val_score(model, X_train_smote, y_train_smote_transformed, cv=cv, scoring='roc_auc')\n",
    "        cv_results[name] = scores\n",
    "        print(f\"  {name}: {scores.mean():.4f} (+/- {scores.std() * 2:.4f})\")\n",
    "        \n",
    "    elif 'XGBoost' in name:\n",
    "        print(f\"  Evaluating {name} with XGBoost (transformed labels)\")\n",
    "        scores = cross_val_score(model, X_train_selected, y_train_transformed, cv=cv, scoring='roc_auc')\n",
    "        cv_results[name] = scores\n",
    "        print(f\"  {name}: {scores.mean():.4f} (+/- {scores.std() * 2:.4f})\")\n",
    "        \n",
    "    elif 'SMOTE' in name:\n",
    "        print(f\"  Evaluating {name} with SMOTE (original labels)\")\n",
    "        scores = cross_val_score(model, X_train_smote, y_train_smote, cv=cv, scoring='roc_auc')\n",
    "        cv_results[name] = scores\n",
    "        print(f\"  {name}: {scores.mean():.4f} (+/- {scores.std() * 2:.4f})\")\n",
    "        \n",
    "    else:\n",
    "        print(f\"  Evaluating {name} with Class Weights (original labels)\")\n",
    "        scores = cross_val_score(model, X_train_selected, y_train, cv=cv, scoring='roc_auc')\n",
    "        cv_results[name] = scores\n",
    "        print(f\"  {name}: {scores.mean():.4f} (+/- {scores.std() * 2:.4f})\")"
   ]
  },
  {
   "cell_type": "markdown",
   "id": "2cfd1c00",
   "metadata": {},
   "source": [
    "  -- Evaluating Random Forest (Class Weights) with Class Weights (original labels)\n",
    "\n",
    "  -- Random Forest (Class Weights): 0.7013 (+/- 0.0341)\n",
    "\n",
    "  -- Evaluating XGBoost (Class Weights) with XGBoost (transformed labels)\n",
    "\n",
    "  -- XGBoost (Class Weights): 0.6637 (+/- 0.0737)\n",
    "\n",
    "  -- Evaluating Logistic Regression (Class Weights) with Class Weights (original labels)\n",
    "\n",
    "  -- Logistic Regression (Class Weights): 0.7655 (+/- 0.0585)\n",
    "\n",
    "  -- Evaluating SVM (Class Weights) with Class Weights (original labels)\n",
    "\n",
    "  -- SVM (Class Weights): 0.9759 (+/- 0.0153)\n",
    "\n",
    "  -- Evaluating Random Forest (SMOTE) with SMOTE (original labels)\n",
    "\n",
    "  -- Random Forest (SMOTE): 0.9981 (+/- 0.0011)\n",
    "\n",
    "  -- Evaluating XGBoost (SMOTE) with XGBoost + SMOTE (transformed labels)\n",
    "  \n",
    "  -- XGBoost (SMOTE): 0.9986 (+/- 0.0010)"
   ]
  },
  {
   "cell_type": "markdown",
   "id": "7c97216f",
   "metadata": {},
   "source": [
    "**The best-performing model was `XGBoost with SMOTE`, achieving an `F1-score 0.9986`, indicating excellent handling of class imbalance after it we will see `Random Forest with SMOTE`. Among models using only class weights, `SVM` delivered the highest performance with an `F1-score  0.9759`, showcasing its effectiveness in high-dimensional settings. In contrast, tree-based models with class weighting alone underperformed, highlighting the importance of oversampling techniques like SMOTE in this task**"
   ]
  },
  {
   "cell_type": "code",
   "execution_count": null,
   "id": "ad901d32",
   "metadata": {},
   "outputs": [],
   "source": [
    "# # Train all models -- testing \n",
    "# trained_models = {}\n",
    "# for name, model in models.items():\n",
    "#     if 'Class Weights' in name:\n",
    "#         model.fit(X_train_selected, y_train_original)\n",
    "#         trained_models[name] = model\n",
    "#     elif 'SMOTE' in name:\n",
    "#         model.fit(X_train_smote, y_train_smote)\n",
    "#         trained_models[name] = model"
   ]
  },
  {
   "cell_type": "code",
   "execution_count": 34,
   "id": "2bdc34d6",
   "metadata": {},
   "outputs": [
    {
     "name": "stdout",
     "output_type": "stream",
     "text": [
      "  Training Random Forest (Class Weights) with Class Weights (original labels)\n",
      "  Training XGBoost (Class Weights) with XGBoost (transformed labels)\n",
      "  Training Logistic Regression (Class Weights) with Class Weights (original labels)\n",
      "  Training SVM (Class Weights) with Class Weights (original labels)\n",
      "  Training Random Forest (SMOTE) with SMOTE (original labels)\n",
      "  Training XGBoost (SMOTE) with XGBoost + SMOTE (transformed labels)\n",
      "Successfully trained 6 models\n"
     ]
    }
   ],
   "source": [
    "trained_models = {}\n",
    "\n",
    "for name, model in models.items():\n",
    "    if 'XGBoost' in name and 'SMOTE' in name:\n",
    "        print(f\"  Training {name} with XGBoost + SMOTE (transformed labels)\")\n",
    "        model.fit(X_train_smote, y_train_smote_transformed)\n",
    "        trained_models[name] = model\n",
    "        \n",
    "    elif 'XGBoost' in name:\n",
    "        print(f\"  Training {name} with XGBoost (transformed labels)\")\n",
    "        model.fit(X_train_selected, y_train_transformed)\n",
    "        trained_models[name] = model\n",
    "        \n",
    "    elif 'SMOTE' in name:\n",
    "        print(f\"  Training {name} with SMOTE (original labels)\")\n",
    "        model.fit(X_train_smote, y_train_smote)\n",
    "        trained_models[name] = model\n",
    "        \n",
    "    else:\n",
    "        print(f\"  Training {name} with Class Weights (original labels)\")\n",
    "        model.fit(X_train_selected, y_train)\n",
    "        trained_models[name] = model\n",
    "\n",
    "print(f\"Successfully trained {len(trained_models)} models\")"
   ]
  },
  {
   "cell_type": "markdown",
   "id": "328f2a53",
   "metadata": {},
   "source": [
    "## Ensemble Model"
   ]
  },
  {
   "cell_type": "markdown",
   "id": "52f41444",
   "metadata": {},
   "source": [
    "-- why ensamble learning : it's quite simple instead of training a single model and reling on it's predication \n",
    "\n",
    "`we will train muliple models and combine thier predication it gives us better overall accuracy`"
   ]
  },
  {
   "cell_type": "code",
   "execution_count": 35,
   "id": "ef6a4dab",
   "metadata": {},
   "outputs": [],
   "source": [
    "ensemble = VotingClassifier(\n",
    "    estimators=list(trained_models.items()),\n",
    "    voting='soft'\n",
    ")"
   ]
  },
  {
   "cell_type": "code",
   "execution_count": 36,
   "id": "287d651b",
   "metadata": {},
   "outputs": [
    {
     "data": {
      "text/html": [
       "<style>#sk-container-id-1 {\n",
       "  /* Definition of color scheme common for light and dark mode */\n",
       "  --sklearn-color-text: #000;\n",
       "  --sklearn-color-text-muted: #666;\n",
       "  --sklearn-color-line: gray;\n",
       "  /* Definition of color scheme for unfitted estimators */\n",
       "  --sklearn-color-unfitted-level-0: #fff5e6;\n",
       "  --sklearn-color-unfitted-level-1: #f6e4d2;\n",
       "  --sklearn-color-unfitted-level-2: #ffe0b3;\n",
       "  --sklearn-color-unfitted-level-3: chocolate;\n",
       "  /* Definition of color scheme for fitted estimators */\n",
       "  --sklearn-color-fitted-level-0: #f0f8ff;\n",
       "  --sklearn-color-fitted-level-1: #d4ebff;\n",
       "  --sklearn-color-fitted-level-2: #b3dbfd;\n",
       "  --sklearn-color-fitted-level-3: cornflowerblue;\n",
       "\n",
       "  /* Specific color for light theme */\n",
       "  --sklearn-color-text-on-default-background: var(--sg-text-color, var(--theme-code-foreground, var(--jp-content-font-color1, black)));\n",
       "  --sklearn-color-background: var(--sg-background-color, var(--theme-background, var(--jp-layout-color0, white)));\n",
       "  --sklearn-color-border-box: var(--sg-text-color, var(--theme-code-foreground, var(--jp-content-font-color1, black)));\n",
       "  --sklearn-color-icon: #696969;\n",
       "\n",
       "  @media (prefers-color-scheme: dark) {\n",
       "    /* Redefinition of color scheme for dark theme */\n",
       "    --sklearn-color-text-on-default-background: var(--sg-text-color, var(--theme-code-foreground, var(--jp-content-font-color1, white)));\n",
       "    --sklearn-color-background: var(--sg-background-color, var(--theme-background, var(--jp-layout-color0, #111)));\n",
       "    --sklearn-color-border-box: var(--sg-text-color, var(--theme-code-foreground, var(--jp-content-font-color1, white)));\n",
       "    --sklearn-color-icon: #878787;\n",
       "  }\n",
       "}\n",
       "\n",
       "#sk-container-id-1 {\n",
       "  color: var(--sklearn-color-text);\n",
       "}\n",
       "\n",
       "#sk-container-id-1 pre {\n",
       "  padding: 0;\n",
       "}\n",
       "\n",
       "#sk-container-id-1 input.sk-hidden--visually {\n",
       "  border: 0;\n",
       "  clip: rect(1px 1px 1px 1px);\n",
       "  clip: rect(1px, 1px, 1px, 1px);\n",
       "  height: 1px;\n",
       "  margin: -1px;\n",
       "  overflow: hidden;\n",
       "  padding: 0;\n",
       "  position: absolute;\n",
       "  width: 1px;\n",
       "}\n",
       "\n",
       "#sk-container-id-1 div.sk-dashed-wrapped {\n",
       "  border: 1px dashed var(--sklearn-color-line);\n",
       "  margin: 0 0.4em 0.5em 0.4em;\n",
       "  box-sizing: border-box;\n",
       "  padding-bottom: 0.4em;\n",
       "  background-color: var(--sklearn-color-background);\n",
       "}\n",
       "\n",
       "#sk-container-id-1 div.sk-container {\n",
       "  /* jupyter's `normalize.less` sets `[hidden] { display: none; }`\n",
       "     but bootstrap.min.css set `[hidden] { display: none !important; }`\n",
       "     so we also need the `!important` here to be able to override the\n",
       "     default hidden behavior on the sphinx rendered scikit-learn.org.\n",
       "     See: https://github.com/scikit-learn/scikit-learn/issues/21755 */\n",
       "  display: inline-block !important;\n",
       "  position: relative;\n",
       "}\n",
       "\n",
       "#sk-container-id-1 div.sk-text-repr-fallback {\n",
       "  display: none;\n",
       "}\n",
       "\n",
       "div.sk-parallel-item,\n",
       "div.sk-serial,\n",
       "div.sk-item {\n",
       "  /* draw centered vertical line to link estimators */\n",
       "  background-image: linear-gradient(var(--sklearn-color-text-on-default-background), var(--sklearn-color-text-on-default-background));\n",
       "  background-size: 2px 100%;\n",
       "  background-repeat: no-repeat;\n",
       "  background-position: center center;\n",
       "}\n",
       "\n",
       "/* Parallel-specific style estimator block */\n",
       "\n",
       "#sk-container-id-1 div.sk-parallel-item::after {\n",
       "  content: \"\";\n",
       "  width: 100%;\n",
       "  border-bottom: 2px solid var(--sklearn-color-text-on-default-background);\n",
       "  flex-grow: 1;\n",
       "}\n",
       "\n",
       "#sk-container-id-1 div.sk-parallel {\n",
       "  display: flex;\n",
       "  align-items: stretch;\n",
       "  justify-content: center;\n",
       "  background-color: var(--sklearn-color-background);\n",
       "  position: relative;\n",
       "}\n",
       "\n",
       "#sk-container-id-1 div.sk-parallel-item {\n",
       "  display: flex;\n",
       "  flex-direction: column;\n",
       "}\n",
       "\n",
       "#sk-container-id-1 div.sk-parallel-item:first-child::after {\n",
       "  align-self: flex-end;\n",
       "  width: 50%;\n",
       "}\n",
       "\n",
       "#sk-container-id-1 div.sk-parallel-item:last-child::after {\n",
       "  align-self: flex-start;\n",
       "  width: 50%;\n",
       "}\n",
       "\n",
       "#sk-container-id-1 div.sk-parallel-item:only-child::after {\n",
       "  width: 0;\n",
       "}\n",
       "\n",
       "/* Serial-specific style estimator block */\n",
       "\n",
       "#sk-container-id-1 div.sk-serial {\n",
       "  display: flex;\n",
       "  flex-direction: column;\n",
       "  align-items: center;\n",
       "  background-color: var(--sklearn-color-background);\n",
       "  padding-right: 1em;\n",
       "  padding-left: 1em;\n",
       "}\n",
       "\n",
       "\n",
       "/* Toggleable style: style used for estimator/Pipeline/ColumnTransformer box that is\n",
       "clickable and can be expanded/collapsed.\n",
       "- Pipeline and ColumnTransformer use this feature and define the default style\n",
       "- Estimators will overwrite some part of the style using the `sk-estimator` class\n",
       "*/\n",
       "\n",
       "/* Pipeline and ColumnTransformer style (default) */\n",
       "\n",
       "#sk-container-id-1 div.sk-toggleable {\n",
       "  /* Default theme specific background. It is overwritten whether we have a\n",
       "  specific estimator or a Pipeline/ColumnTransformer */\n",
       "  background-color: var(--sklearn-color-background);\n",
       "}\n",
       "\n",
       "/* Toggleable label */\n",
       "#sk-container-id-1 label.sk-toggleable__label {\n",
       "  cursor: pointer;\n",
       "  display: flex;\n",
       "  width: 100%;\n",
       "  margin-bottom: 0;\n",
       "  padding: 0.5em;\n",
       "  box-sizing: border-box;\n",
       "  text-align: center;\n",
       "  align-items: start;\n",
       "  justify-content: space-between;\n",
       "  gap: 0.5em;\n",
       "}\n",
       "\n",
       "#sk-container-id-1 label.sk-toggleable__label .caption {\n",
       "  font-size: 0.6rem;\n",
       "  font-weight: lighter;\n",
       "  color: var(--sklearn-color-text-muted);\n",
       "}\n",
       "\n",
       "#sk-container-id-1 label.sk-toggleable__label-arrow:before {\n",
       "  /* Arrow on the left of the label */\n",
       "  content: \"▸\";\n",
       "  float: left;\n",
       "  margin-right: 0.25em;\n",
       "  color: var(--sklearn-color-icon);\n",
       "}\n",
       "\n",
       "#sk-container-id-1 label.sk-toggleable__label-arrow:hover:before {\n",
       "  color: var(--sklearn-color-text);\n",
       "}\n",
       "\n",
       "/* Toggleable content - dropdown */\n",
       "\n",
       "#sk-container-id-1 div.sk-toggleable__content {\n",
       "  max-height: 0;\n",
       "  max-width: 0;\n",
       "  overflow: hidden;\n",
       "  text-align: left;\n",
       "  /* unfitted */\n",
       "  background-color: var(--sklearn-color-unfitted-level-0);\n",
       "}\n",
       "\n",
       "#sk-container-id-1 div.sk-toggleable__content.fitted {\n",
       "  /* fitted */\n",
       "  background-color: var(--sklearn-color-fitted-level-0);\n",
       "}\n",
       "\n",
       "#sk-container-id-1 div.sk-toggleable__content pre {\n",
       "  margin: 0.2em;\n",
       "  border-radius: 0.25em;\n",
       "  color: var(--sklearn-color-text);\n",
       "  /* unfitted */\n",
       "  background-color: var(--sklearn-color-unfitted-level-0);\n",
       "}\n",
       "\n",
       "#sk-container-id-1 div.sk-toggleable__content.fitted pre {\n",
       "  /* unfitted */\n",
       "  background-color: var(--sklearn-color-fitted-level-0);\n",
       "}\n",
       "\n",
       "#sk-container-id-1 input.sk-toggleable__control:checked~div.sk-toggleable__content {\n",
       "  /* Expand drop-down */\n",
       "  max-height: 200px;\n",
       "  max-width: 100%;\n",
       "  overflow: auto;\n",
       "}\n",
       "\n",
       "#sk-container-id-1 input.sk-toggleable__control:checked~label.sk-toggleable__label-arrow:before {\n",
       "  content: \"▾\";\n",
       "}\n",
       "\n",
       "/* Pipeline/ColumnTransformer-specific style */\n",
       "\n",
       "#sk-container-id-1 div.sk-label input.sk-toggleable__control:checked~label.sk-toggleable__label {\n",
       "  color: var(--sklearn-color-text);\n",
       "  background-color: var(--sklearn-color-unfitted-level-2);\n",
       "}\n",
       "\n",
       "#sk-container-id-1 div.sk-label.fitted input.sk-toggleable__control:checked~label.sk-toggleable__label {\n",
       "  background-color: var(--sklearn-color-fitted-level-2);\n",
       "}\n",
       "\n",
       "/* Estimator-specific style */\n",
       "\n",
       "/* Colorize estimator box */\n",
       "#sk-container-id-1 div.sk-estimator input.sk-toggleable__control:checked~label.sk-toggleable__label {\n",
       "  /* unfitted */\n",
       "  background-color: var(--sklearn-color-unfitted-level-2);\n",
       "}\n",
       "\n",
       "#sk-container-id-1 div.sk-estimator.fitted input.sk-toggleable__control:checked~label.sk-toggleable__label {\n",
       "  /* fitted */\n",
       "  background-color: var(--sklearn-color-fitted-level-2);\n",
       "}\n",
       "\n",
       "#sk-container-id-1 div.sk-label label.sk-toggleable__label,\n",
       "#sk-container-id-1 div.sk-label label {\n",
       "  /* The background is the default theme color */\n",
       "  color: var(--sklearn-color-text-on-default-background);\n",
       "}\n",
       "\n",
       "/* On hover, darken the color of the background */\n",
       "#sk-container-id-1 div.sk-label:hover label.sk-toggleable__label {\n",
       "  color: var(--sklearn-color-text);\n",
       "  background-color: var(--sklearn-color-unfitted-level-2);\n",
       "}\n",
       "\n",
       "/* Label box, darken color on hover, fitted */\n",
       "#sk-container-id-1 div.sk-label.fitted:hover label.sk-toggleable__label.fitted {\n",
       "  color: var(--sklearn-color-text);\n",
       "  background-color: var(--sklearn-color-fitted-level-2);\n",
       "}\n",
       "\n",
       "/* Estimator label */\n",
       "\n",
       "#sk-container-id-1 div.sk-label label {\n",
       "  font-family: monospace;\n",
       "  font-weight: bold;\n",
       "  display: inline-block;\n",
       "  line-height: 1.2em;\n",
       "}\n",
       "\n",
       "#sk-container-id-1 div.sk-label-container {\n",
       "  text-align: center;\n",
       "}\n",
       "\n",
       "/* Estimator-specific */\n",
       "#sk-container-id-1 div.sk-estimator {\n",
       "  font-family: monospace;\n",
       "  border: 1px dotted var(--sklearn-color-border-box);\n",
       "  border-radius: 0.25em;\n",
       "  box-sizing: border-box;\n",
       "  margin-bottom: 0.5em;\n",
       "  /* unfitted */\n",
       "  background-color: var(--sklearn-color-unfitted-level-0);\n",
       "}\n",
       "\n",
       "#sk-container-id-1 div.sk-estimator.fitted {\n",
       "  /* fitted */\n",
       "  background-color: var(--sklearn-color-fitted-level-0);\n",
       "}\n",
       "\n",
       "/* on hover */\n",
       "#sk-container-id-1 div.sk-estimator:hover {\n",
       "  /* unfitted */\n",
       "  background-color: var(--sklearn-color-unfitted-level-2);\n",
       "}\n",
       "\n",
       "#sk-container-id-1 div.sk-estimator.fitted:hover {\n",
       "  /* fitted */\n",
       "  background-color: var(--sklearn-color-fitted-level-2);\n",
       "}\n",
       "\n",
       "/* Specification for estimator info (e.g. \"i\" and \"?\") */\n",
       "\n",
       "/* Common style for \"i\" and \"?\" */\n",
       "\n",
       ".sk-estimator-doc-link,\n",
       "a:link.sk-estimator-doc-link,\n",
       "a:visited.sk-estimator-doc-link {\n",
       "  float: right;\n",
       "  font-size: smaller;\n",
       "  line-height: 1em;\n",
       "  font-family: monospace;\n",
       "  background-color: var(--sklearn-color-background);\n",
       "  border-radius: 1em;\n",
       "  height: 1em;\n",
       "  width: 1em;\n",
       "  text-decoration: none !important;\n",
       "  margin-left: 0.5em;\n",
       "  text-align: center;\n",
       "  /* unfitted */\n",
       "  border: var(--sklearn-color-unfitted-level-1) 1pt solid;\n",
       "  color: var(--sklearn-color-unfitted-level-1);\n",
       "}\n",
       "\n",
       ".sk-estimator-doc-link.fitted,\n",
       "a:link.sk-estimator-doc-link.fitted,\n",
       "a:visited.sk-estimator-doc-link.fitted {\n",
       "  /* fitted */\n",
       "  border: var(--sklearn-color-fitted-level-1) 1pt solid;\n",
       "  color: var(--sklearn-color-fitted-level-1);\n",
       "}\n",
       "\n",
       "/* On hover */\n",
       "div.sk-estimator:hover .sk-estimator-doc-link:hover,\n",
       ".sk-estimator-doc-link:hover,\n",
       "div.sk-label-container:hover .sk-estimator-doc-link:hover,\n",
       ".sk-estimator-doc-link:hover {\n",
       "  /* unfitted */\n",
       "  background-color: var(--sklearn-color-unfitted-level-3);\n",
       "  color: var(--sklearn-color-background);\n",
       "  text-decoration: none;\n",
       "}\n",
       "\n",
       "div.sk-estimator.fitted:hover .sk-estimator-doc-link.fitted:hover,\n",
       ".sk-estimator-doc-link.fitted:hover,\n",
       "div.sk-label-container:hover .sk-estimator-doc-link.fitted:hover,\n",
       ".sk-estimator-doc-link.fitted:hover {\n",
       "  /* fitted */\n",
       "  background-color: var(--sklearn-color-fitted-level-3);\n",
       "  color: var(--sklearn-color-background);\n",
       "  text-decoration: none;\n",
       "}\n",
       "\n",
       "/* Span, style for the box shown on hovering the info icon */\n",
       ".sk-estimator-doc-link span {\n",
       "  display: none;\n",
       "  z-index: 9999;\n",
       "  position: relative;\n",
       "  font-weight: normal;\n",
       "  right: .2ex;\n",
       "  padding: .5ex;\n",
       "  margin: .5ex;\n",
       "  width: min-content;\n",
       "  min-width: 20ex;\n",
       "  max-width: 50ex;\n",
       "  color: var(--sklearn-color-text);\n",
       "  box-shadow: 2pt 2pt 4pt #999;\n",
       "  /* unfitted */\n",
       "  background: var(--sklearn-color-unfitted-level-0);\n",
       "  border: .5pt solid var(--sklearn-color-unfitted-level-3);\n",
       "}\n",
       "\n",
       ".sk-estimator-doc-link.fitted span {\n",
       "  /* fitted */\n",
       "  background: var(--sklearn-color-fitted-level-0);\n",
       "  border: var(--sklearn-color-fitted-level-3);\n",
       "}\n",
       "\n",
       ".sk-estimator-doc-link:hover span {\n",
       "  display: block;\n",
       "}\n",
       "\n",
       "/* \"?\"-specific style due to the `<a>` HTML tag */\n",
       "\n",
       "#sk-container-id-1 a.estimator_doc_link {\n",
       "  float: right;\n",
       "  font-size: 1rem;\n",
       "  line-height: 1em;\n",
       "  font-family: monospace;\n",
       "  background-color: var(--sklearn-color-background);\n",
       "  border-radius: 1rem;\n",
       "  height: 1rem;\n",
       "  width: 1rem;\n",
       "  text-decoration: none;\n",
       "  /* unfitted */\n",
       "  color: var(--sklearn-color-unfitted-level-1);\n",
       "  border: var(--sklearn-color-unfitted-level-1) 1pt solid;\n",
       "}\n",
       "\n",
       "#sk-container-id-1 a.estimator_doc_link.fitted {\n",
       "  /* fitted */\n",
       "  border: var(--sklearn-color-fitted-level-1) 1pt solid;\n",
       "  color: var(--sklearn-color-fitted-level-1);\n",
       "}\n",
       "\n",
       "/* On hover */\n",
       "#sk-container-id-1 a.estimator_doc_link:hover {\n",
       "  /* unfitted */\n",
       "  background-color: var(--sklearn-color-unfitted-level-3);\n",
       "  color: var(--sklearn-color-background);\n",
       "  text-decoration: none;\n",
       "}\n",
       "\n",
       "#sk-container-id-1 a.estimator_doc_link.fitted:hover {\n",
       "  /* fitted */\n",
       "  background-color: var(--sklearn-color-fitted-level-3);\n",
       "}\n",
       "</style><div id=\"sk-container-id-1\" class=\"sk-top-container\"><div class=\"sk-text-repr-fallback\"><pre>VotingClassifier(estimators=[(&#x27;Random Forest (Class Weights)&#x27;,\n",
       "                              RandomForestClassifier(class_weight=&#x27;balanced&#x27;,\n",
       "                                                     max_depth=10,\n",
       "                                                     min_samples_leaf=2,\n",
       "                                                     min_samples_split=5,\n",
       "                                                     n_estimators=200,\n",
       "                                                     n_jobs=-1,\n",
       "                                                     random_state=42)),\n",
       "                             (&#x27;XGBoost (Class Weights)&#x27;,\n",
       "                              XGBClassifier(base_score=None, booster=None,\n",
       "                                            callbacks=None,\n",
       "                                            colsample_bylevel=None,\n",
       "                                            colsample_bynode=None,\n",
       "                                            colsample_bytree=0....\n",
       "                                            feature_weights=None, gamma=None,\n",
       "                                            grow_policy=None,\n",
       "                                            importance_type=None,\n",
       "                                            interaction_constraints=None,\n",
       "                                            learning_rate=0.1, max_bin=None,\n",
       "                                            max_cat_threshold=None,\n",
       "                                            max_cat_to_onehot=None,\n",
       "                                            max_delta_step=None, max_depth=6,\n",
       "                                            max_leaves=None,\n",
       "                                            min_child_weight=None, missing=nan,\n",
       "                                            monotone_constraints=None,\n",
       "                                            multi_strategy=None,\n",
       "                                            n_estimators=200, n_jobs=-1,\n",
       "                                            num_parallel_tree=None, ...))],\n",
       "                 voting=&#x27;soft&#x27;)</pre><b>In a Jupyter environment, please rerun this cell to show the HTML representation or trust the notebook. <br />On GitHub, the HTML representation is unable to render, please try loading this page with nbviewer.org.</b></div><div class=\"sk-container\" hidden><div class=\"sk-item sk-dashed-wrapped\"><div class=\"sk-label-container\"><div class=\"sk-label fitted sk-toggleable\"><input class=\"sk-toggleable__control sk-hidden--visually\" id=\"sk-estimator-id-1\" type=\"checkbox\" ><label for=\"sk-estimator-id-1\" class=\"sk-toggleable__label fitted sk-toggleable__label-arrow\"><div><div>VotingClassifier</div></div><div><a class=\"sk-estimator-doc-link fitted\" rel=\"noreferrer\" target=\"_blank\" href=\"https://scikit-learn.org/1.6/modules/generated/sklearn.ensemble.VotingClassifier.html\">?<span>Documentation for VotingClassifier</span></a><span class=\"sk-estimator-doc-link fitted\">i<span>Fitted</span></span></div></label><div class=\"sk-toggleable__content fitted\"><pre>VotingClassifier(estimators=[(&#x27;Random Forest (Class Weights)&#x27;,\n",
       "                              RandomForestClassifier(class_weight=&#x27;balanced&#x27;,\n",
       "                                                     max_depth=10,\n",
       "                                                     min_samples_leaf=2,\n",
       "                                                     min_samples_split=5,\n",
       "                                                     n_estimators=200,\n",
       "                                                     n_jobs=-1,\n",
       "                                                     random_state=42)),\n",
       "                             (&#x27;XGBoost (Class Weights)&#x27;,\n",
       "                              XGBClassifier(base_score=None, booster=None,\n",
       "                                            callbacks=None,\n",
       "                                            colsample_bylevel=None,\n",
       "                                            colsample_bynode=None,\n",
       "                                            colsample_bytree=0....\n",
       "                                            feature_weights=None, gamma=None,\n",
       "                                            grow_policy=None,\n",
       "                                            importance_type=None,\n",
       "                                            interaction_constraints=None,\n",
       "                                            learning_rate=0.1, max_bin=None,\n",
       "                                            max_cat_threshold=None,\n",
       "                                            max_cat_to_onehot=None,\n",
       "                                            max_delta_step=None, max_depth=6,\n",
       "                                            max_leaves=None,\n",
       "                                            min_child_weight=None, missing=nan,\n",
       "                                            monotone_constraints=None,\n",
       "                                            multi_strategy=None,\n",
       "                                            n_estimators=200, n_jobs=-1,\n",
       "                                            num_parallel_tree=None, ...))],\n",
       "                 voting=&#x27;soft&#x27;)</pre></div> </div></div><div class=\"sk-parallel\"><div class=\"sk-parallel-item\"><div class=\"sk-item\"><div class=\"sk-label-container\"><div class=\"sk-label fitted sk-toggleable\"><label>Random Forest (Class Weights)</label></div></div><div class=\"sk-serial\"><div class=\"sk-item\"><div class=\"sk-estimator fitted sk-toggleable\"><input class=\"sk-toggleable__control sk-hidden--visually\" id=\"sk-estimator-id-2\" type=\"checkbox\" ><label for=\"sk-estimator-id-2\" class=\"sk-toggleable__label fitted sk-toggleable__label-arrow\"><div><div>RandomForestClassifier</div></div><div><a class=\"sk-estimator-doc-link fitted\" rel=\"noreferrer\" target=\"_blank\" href=\"https://scikit-learn.org/1.6/modules/generated/sklearn.ensemble.RandomForestClassifier.html\">?<span>Documentation for RandomForestClassifier</span></a></div></label><div class=\"sk-toggleable__content fitted\"><pre>RandomForestClassifier(class_weight=&#x27;balanced&#x27;, max_depth=10,\n",
       "                       min_samples_leaf=2, min_samples_split=5,\n",
       "                       n_estimators=200, n_jobs=-1, random_state=42)</pre></div> </div></div></div></div></div><div class=\"sk-parallel-item\"><div class=\"sk-item\"><div class=\"sk-label-container\"><div class=\"sk-label fitted sk-toggleable\"><label>XGBoost (Class Weights)</label></div></div><div class=\"sk-serial\"><div class=\"sk-item\"><div class=\"sk-estimator fitted sk-toggleable\"><input class=\"sk-toggleable__control sk-hidden--visually\" id=\"sk-estimator-id-3\" type=\"checkbox\" ><label for=\"sk-estimator-id-3\" class=\"sk-toggleable__label fitted sk-toggleable__label-arrow\"><div><div>XGBClassifier</div></div><div><a class=\"sk-estimator-doc-link fitted\" rel=\"noreferrer\" target=\"_blank\" href=\"https://xgboost.readthedocs.io/en/release_3.0.0/python/python_api.html#xgboost.XGBClassifier\">?<span>Documentation for XGBClassifier</span></a></div></label><div class=\"sk-toggleable__content fitted\"><pre>XGBClassifier(base_score=None, booster=None, callbacks=None,\n",
       "              colsample_bylevel=None, colsample_bynode=None,\n",
       "              colsample_bytree=0.8, device=None, early_stopping_rounds=None,\n",
       "              enable_categorical=False, eval_metric=None, feature_types=None,\n",
       "              feature_weights=None, gamma=None, grow_policy=None,\n",
       "              importance_type=None, interaction_constraints=None,\n",
       "              learning_rate=0.1, max_bin=None, max_cat_threshold=None,\n",
       "              max_cat_to_onehot=None, max_delta_step=None, max_depth=6,\n",
       "              max_leaves=None, min_child_weight=None, missing=nan,\n",
       "              monotone_constraints=None, multi_strategy=None, n_estimators=200,\n",
       "              n_jobs=-1, num_parallel_tree=None, ...)</pre></div> </div></div></div></div></div><div class=\"sk-parallel-item\"><div class=\"sk-item\"><div class=\"sk-label-container\"><div class=\"sk-label fitted sk-toggleable\"><label>Logistic Regression (Class Weights)</label></div></div><div class=\"sk-serial\"><div class=\"sk-item\"><div class=\"sk-estimator fitted sk-toggleable\"><input class=\"sk-toggleable__control sk-hidden--visually\" id=\"sk-estimator-id-4\" type=\"checkbox\" ><label for=\"sk-estimator-id-4\" class=\"sk-toggleable__label fitted sk-toggleable__label-arrow\"><div><div>LogisticRegression</div></div><div><a class=\"sk-estimator-doc-link fitted\" rel=\"noreferrer\" target=\"_blank\" href=\"https://scikit-learn.org/1.6/modules/generated/sklearn.linear_model.LogisticRegression.html\">?<span>Documentation for LogisticRegression</span></a></div></label><div class=\"sk-toggleable__content fitted\"><pre>LogisticRegression(C=0.1, class_weight=&#x27;balanced&#x27;, l1_ratio=0.5, max_iter=1000,\n",
       "                   penalty=&#x27;elasticnet&#x27;, random_state=42, solver=&#x27;saga&#x27;)</pre></div> </div></div></div></div></div><div class=\"sk-parallel-item\"><div class=\"sk-item\"><div class=\"sk-label-container\"><div class=\"sk-label fitted sk-toggleable\"><label>SVM (Class Weights)</label></div></div><div class=\"sk-serial\"><div class=\"sk-item\"><div class=\"sk-estimator fitted sk-toggleable\"><input class=\"sk-toggleable__control sk-hidden--visually\" id=\"sk-estimator-id-5\" type=\"checkbox\" ><label for=\"sk-estimator-id-5\" class=\"sk-toggleable__label fitted sk-toggleable__label-arrow\"><div><div>SVC</div></div><div><a class=\"sk-estimator-doc-link fitted\" rel=\"noreferrer\" target=\"_blank\" href=\"https://scikit-learn.org/1.6/modules/generated/sklearn.svm.SVC.html\">?<span>Documentation for SVC</span></a></div></label><div class=\"sk-toggleable__content fitted\"><pre>SVC(class_weight=&#x27;balanced&#x27;, probability=True, random_state=42)</pre></div> </div></div></div></div></div><div class=\"sk-parallel-item\"><div class=\"sk-item\"><div class=\"sk-label-container\"><div class=\"sk-label fitted sk-toggleable\"><label>Random Forest (SMOTE)</label></div></div><div class=\"sk-serial\"><div class=\"sk-item\"><div class=\"sk-estimator fitted sk-toggleable\"><input class=\"sk-toggleable__control sk-hidden--visually\" id=\"sk-estimator-id-6\" type=\"checkbox\" ><label for=\"sk-estimator-id-6\" class=\"sk-toggleable__label fitted sk-toggleable__label-arrow\"><div><div>RandomForestClassifier</div></div><div><a class=\"sk-estimator-doc-link fitted\" rel=\"noreferrer\" target=\"_blank\" href=\"https://scikit-learn.org/1.6/modules/generated/sklearn.ensemble.RandomForestClassifier.html\">?<span>Documentation for RandomForestClassifier</span></a></div></label><div class=\"sk-toggleable__content fitted\"><pre>RandomForestClassifier(max_depth=10, min_samples_leaf=2, min_samples_split=5,\n",
       "                       n_estimators=200, n_jobs=-1, random_state=42)</pre></div> </div></div></div></div></div><div class=\"sk-parallel-item\"><div class=\"sk-item\"><div class=\"sk-label-container\"><div class=\"sk-label fitted sk-toggleable\"><label>XGBoost (SMOTE)</label></div></div><div class=\"sk-serial\"><div class=\"sk-item\"><div class=\"sk-estimator fitted sk-toggleable\"><input class=\"sk-toggleable__control sk-hidden--visually\" id=\"sk-estimator-id-7\" type=\"checkbox\" ><label for=\"sk-estimator-id-7\" class=\"sk-toggleable__label fitted sk-toggleable__label-arrow\"><div><div>XGBClassifier</div></div><div><a class=\"sk-estimator-doc-link fitted\" rel=\"noreferrer\" target=\"_blank\" href=\"https://xgboost.readthedocs.io/en/release_3.0.0/python/python_api.html#xgboost.XGBClassifier\">?<span>Documentation for XGBClassifier</span></a></div></label><div class=\"sk-toggleable__content fitted\"><pre>XGBClassifier(base_score=None, booster=None, callbacks=None,\n",
       "              colsample_bylevel=None, colsample_bynode=None,\n",
       "              colsample_bytree=0.8, device=None, early_stopping_rounds=None,\n",
       "              enable_categorical=False, eval_metric=None, feature_types=None,\n",
       "              feature_weights=None, gamma=None, grow_policy=None,\n",
       "              importance_type=None, interaction_constraints=None,\n",
       "              learning_rate=0.1, max_bin=None, max_cat_threshold=None,\n",
       "              max_cat_to_onehot=None, max_delta_step=None, max_depth=6,\n",
       "              max_leaves=None, min_child_weight=None, missing=nan,\n",
       "              monotone_constraints=None, multi_strategy=None, n_estimators=200,\n",
       "              n_jobs=-1, num_parallel_tree=None, ...)</pre></div> </div></div></div></div></div></div></div></div></div>"
      ],
      "text/plain": [
       "VotingClassifier(estimators=[('Random Forest (Class Weights)',\n",
       "                              RandomForestClassifier(class_weight='balanced',\n",
       "                                                     max_depth=10,\n",
       "                                                     min_samples_leaf=2,\n",
       "                                                     min_samples_split=5,\n",
       "                                                     n_estimators=200,\n",
       "                                                     n_jobs=-1,\n",
       "                                                     random_state=42)),\n",
       "                             ('XGBoost (Class Weights)',\n",
       "                              XGBClassifier(base_score=None, booster=None,\n",
       "                                            callbacks=None,\n",
       "                                            colsample_bylevel=None,\n",
       "                                            colsample_bynode=None,\n",
       "                                            colsample_bytree=0....\n",
       "                                            feature_weights=None, gamma=None,\n",
       "                                            grow_policy=None,\n",
       "                                            importance_type=None,\n",
       "                                            interaction_constraints=None,\n",
       "                                            learning_rate=0.1, max_bin=None,\n",
       "                                            max_cat_threshold=None,\n",
       "                                            max_cat_to_onehot=None,\n",
       "                                            max_delta_step=None, max_depth=6,\n",
       "                                            max_leaves=None,\n",
       "                                            min_child_weight=None, missing=nan,\n",
       "                                            monotone_constraints=None,\n",
       "                                            multi_strategy=None,\n",
       "                                            n_estimators=200, n_jobs=-1,\n",
       "                                            num_parallel_tree=None, ...))],\n",
       "                 voting='soft')"
      ]
     },
     "execution_count": 36,
     "metadata": {},
     "output_type": "execute_result"
    }
   ],
   "source": [
    "ensemble.fit(X_train_selected, y_train_original)"
   ]
  },
  {
   "cell_type": "code",
   "execution_count": 37,
   "id": "3c213673",
   "metadata": {},
   "outputs": [
    {
     "name": "stdout",
     "output_type": "stream",
     "text": [
      "Ensemble ROC-AUC: 0.9323 (+/- 0.0293)\n"
     ]
    }
   ],
   "source": [
    "# evaluate ensemble \n",
    "ensemble_scores = cross_val_score(ensemble, X_train_selected, y_train_original, cv=cv, scoring='roc_auc')\n",
    "print(f\"Ensemble ROC-AUC: {ensemble_scores.mean():.4f} (+/- {ensemble_scores.std() * 2:.4f})\")"
   ]
  },
  {
   "cell_type": "markdown",
   "id": "945f4c52",
   "metadata": {},
   "source": [
    "### comparing all models "
   ]
  },
  {
   "cell_type": "code",
   "execution_count": 38,
   "id": "dbaf5a95",
   "metadata": {},
   "outputs": [
    {
     "data": {
      "image/png": "[encoded data removed]",
      "text/plain": [
       "<Figure size 1200x600 with 1 Axes>"
      ]
     },
     "metadata": {},
     "output_type": "display_data"
    }
   ],
   "source": [
    "plt.figure(figsize=(12, 6))\n",
    "model_names = list(cv_results.keys()) + ['Ensemble']\n",
    "model_scores = list(cv_results.values()) + [ensemble_scores]\n",
    "\n",
    "plt.boxplot(model_scores, labels=model_names)\n",
    "plt.title('Model Performance Comparison (5-Fold CV)')\n",
    "plt.ylabel('ROC-AUC Score')\n",
    "plt.xticks(rotation=45)\n",
    "plt.grid(True, alpha=0.3)\n",
    "plt.tight_layout()\n",
    "plt.savefig('screens/model_comparison.png', dpi=300, bbox_inches='tight')\n",
    "plt.show()"
   ]
  },
  {
   "cell_type": "markdown",
   "id": "65b7e53e",
   "metadata": {},
   "source": [
    "## Generate Predication "
   ]
  },
  {
   "cell_type": "code",
   "execution_count": 39,
   "id": "f6bb054b",
   "metadata": {},
   "outputs": [],
   "source": [
    "predictions = ensemble.predict(X_test_selected)\n",
    "prediction_probabilities = ensemble.predict_proba(X_test_selected)"
   ]
  },
  {
   "cell_type": "code",
   "execution_count": 40,
   "id": "e9895587",
   "metadata": {},
   "outputs": [
    {
     "data": {
      "text/plain": [
       "1250"
      ]
     },
     "execution_count": 40,
     "metadata": {},
     "output_type": "execute_result"
    }
   ],
   "source": [
    "len(predictions)"
   ]
  },
  {
   "cell_type": "code",
   "execution_count": 41,
   "id": "fc7c8dee",
   "metadata": {},
   "outputs": [
    {
     "name": "stdout",
     "output_type": "stream",
     "text": [
      "  Class -1: 0 (0.0%)\n",
      "  Class +1: 1250 (100.0%)\n"
     ]
    }
   ],
   "source": [
    "print(f\"  Class -1: {np.sum(predictions == -1)} ({np.mean(predictions == -1)*100:.1f}%)\")\n",
    "print(f\"  Class +1: {np.sum(predictions == 1)} ({np.mean(predictions == 1)*100:.1f}%)\")\n"
   ]
  },
  {
   "cell_type": "markdown",
   "id": "45fb83b7",
   "metadata": {},
   "source": [
    "-- Now we have a problem that all the predication of the labels from class +1 not even one single item from -1 \n",
    "-- we will start review our code and methodolgy again and see what a problem we made and how can solve it to make it balanced "
   ]
  },
  {
   "cell_type": "markdown",
   "id": "f62c2501",
   "metadata": {},
   "source": [
    "## Imbalance model with xgboost \n",
    "\n",
    "    I select only best model with best Smote is Xgboost to try to resmplaing training data to see if it will help or not "
   ]
  },
  {
   "cell_type": "code",
   "execution_count": 51,
   "id": "bd1e8b6e",
   "metadata": {},
   "outputs": [
    {
     "name": "stdout",
     "output_type": "stream",
     "text": [
      "After SMOTE: [3377    0 3377]\n"
     ]
    }
   ],
   "source": [
    "from imblearn.over_sampling import SMOTE\n",
    "\n",
    "smote = SMOTE(random_state=42)\n",
    "X_train_bal, y_train_bal = smote.fit_resample(X_train_selected, y_train)\n",
    "print(\"After SMOTE:\", np.bincount(y_train_bal.astype(int) + 1))"
   ]
  },
  {
   "cell_type": "code",
   "execution_count": 52,
   "id": "650085e9",
   "metadata": {},
   "outputs": [
    {
     "name": "stdout",
     "output_type": "stream",
     "text": [
      "XGBoost (SMOTE) ROC-AUC: 0.9984 (+/- 0.0021)\n"
     ]
    }
   ],
   "source": [
    "from sklearn.model_selection import cross_val_score\n",
    "\n",
    "xgb_model = xgb.XGBClassifier(\n",
    "    n_estimators=200, max_depth=6, learning_rate=0.1,\n",
    "    subsample=0.8, colsample_bytree=0.8, reg_alpha=0.1,\n",
    "    reg_lambda=1.0, random_state=42, n_jobs=-1, eval_metric='logloss'\n",
    ")\n",
    "\n",
    "cv = StratifiedKFold(n_splits=5, shuffle=True, random_state=42)\n",
    "scores = cross_val_score(xgb_model, X_train_bal, y_train_bal_transformed, cv=cv, scoring='roc_auc')\n",
    "print(f\"XGBoost (SMOTE) ROC-AUC: {scores.mean():.4f} (+/- {scores.std() * 2:.4f})\")"
   ]
  },
  {
   "cell_type": "code",
   "execution_count": 53,
   "id": "a5638538",
   "metadata": {},
   "outputs": [
    {
     "name": "stdout",
     "output_type": "stream",
     "text": [
      "XGBoost model trained on SMOTE-balanced data.\n"
     ]
    }
   ],
   "source": [
    "xgb_model.fit(X_train_bal, y_train_bal_transformed)\n",
    "print(\"XGBoost model trained on SMOTE-balanced data.\")"
   ]
  },
  {
   "cell_type": "code",
   "execution_count": 54,
   "id": "f9228539",
   "metadata": {},
   "outputs": [],
   "source": [
    "# Use the same feature selection and scaling as for training\n",
    "X_test_selected_bal = feature_selector.transform(scaler.transform(variance_selector.transform(X_test)))\n",
    "\n",
    "# Predict probabilities and classes\n",
    "test_pred_proba = xgb_model.predict_proba(X_test_selected_bal)\n",
    "test_pred = xgb_model.predict(X_test_selected_bal)\n",
    "\n",
    "# If you want to convert back to -1/1 labels:\n",
    "test_pred_labels = xgb_label_encoder.inverse_transform(test_pred)"
   ]
  },
  {
   "cell_type": "code",
   "execution_count": 56,
   "id": "dbb0d330",
   "metadata": {},
   "outputs": [
    {
     "name": "stdout",
     "output_type": "stream",
     "text": [
      "Test prediction class balance:\n",
      "Class -1: 0\n",
      "Class +1: 1250\n"
     ]
    }
   ],
   "source": [
    "import numpy as np\n",
    "print(\"Test prediction class balance:\")\n",
    "print(\"Class -1:\", np.sum(test_pred_labels == -1))\n",
    "print(\"Class +1:\", np.sum(test_pred_labels == 1))"
   ]
  },
  {
   "cell_type": "markdown",
   "id": "d18e180b",
   "metadata": {},
   "source": [
    "## Imbalance model with SVM \n",
    "\n",
    "    I select only best model with best Smote is Xgboost to try to resmplaing training data to see if it will help or not "
   ]
  },
  {
   "cell_type": "code",
   "execution_count": 57,
   "id": "2d5b32e7",
   "metadata": {},
   "outputs": [
    {
     "name": "stdout",
     "output_type": "stream",
     "text": [
      "After SMOTE: [3377    0 3377]\n"
     ]
    }
   ],
   "source": [
    "from imblearn.over_sampling import SMOTE\n",
    "\n",
    "smote = SMOTE(random_state=42)\n",
    "X_train_bal, y_train_bal = smote.fit_resample(X_train_selected, y_train)\n",
    "print(\"After SMOTE:\", np.bincount(y_train_bal.astype(int) + 1))"
   ]
  },
  {
   "cell_type": "code",
   "execution_count": 58,
   "id": "f5c200b3",
   "metadata": {},
   "outputs": [
    {
     "name": "stdout",
     "output_type": "stream",
     "text": [
      "SVM model trained on SMOTE-balanced data.\n"
     ]
    }
   ],
   "source": [
    "from sklearn.svm import SVC\n",
    "\n",
    "svm_model = SVC(\n",
    "    C=1.0, kernel='rbf', gamma='scale', probability=True, random_state=42\n",
    ")\n",
    "svm_model.fit(X_train_bal, y_train_bal)\n",
    "print(\"SVM model trained on SMOTE-balanced data.\")"
   ]
  },
  {
   "cell_type": "code",
   "execution_count": 59,
   "id": "4f290a5f",
   "metadata": {},
   "outputs": [],
   "source": [
    "# Use the same feature selection and scaling as for training\n",
    "X_test_selected_bal = feature_selector.transform(scaler.transform(variance_selector.transform(X_test)))\n",
    "\n",
    "# Predict probabilities and classes\n",
    "test_pred = svm_model.predict(X_test_selected_bal)"
   ]
  },
  {
   "cell_type": "code",
   "execution_count": 60,
   "id": "3a995245",
   "metadata": {},
   "outputs": [
    {
     "name": "stdout",
     "output_type": "stream",
     "text": [
      "Test prediction class balance:\n",
      "Class -1: 0\n",
      "Class +1: 1250\n"
     ]
    }
   ],
   "source": [
    "print(\"Test prediction class balance:\")\n",
    "print(\"Class -1:\", np.sum(test_pred == -1))\n",
    "print(\"Class +1:\", np.sum(test_pred == 1))"
   ]
  },
  {
   "cell_type": "code",
   "execution_count": 61,
   "id": "ea9781cf",
   "metadata": {},
   "outputs": [
    {
     "name": "stdout",
     "output_type": "stream",
     "text": [
      "Unique labels in y_train_bal: (array([-1,  1]), array([3377, 3377]))\n"
     ]
    }
   ],
   "source": [
    "print(\"Unique labels in y_train_bal:\", np.unique(y_train_bal, return_counts=True))"
   ]
  },
  {
   "cell_type": "code",
   "execution_count": null,
   "id": "a76e1b82",
   "metadata": {},
   "outputs": [
    {
     "name": "stdout",
     "output_type": "stream",
     "text": [
      "Class -1: 37\n",
      "Class +1: 1213\n"
     ]
    }
   ],
   "source": [
    "\n",
    "svm_model = SVC(C=1.0, kernel='linear', probability=True, random_state=42)\n",
    "svm_model.fit(X_train_bal, y_train_bal)\n",
    "test_pred = svm_model.predict(X_test_selected_bal)"
   ]
  },
  {
   "cell_type": "code",
   "execution_count": null,
   "id": "8416ef14",
   "metadata": {},
   "outputs": [],
   "source": [
    "print(\"Class -1:\", np.sum(test_pred == -1))\n",
    "print(\"Class +1:\", np.sum(test_pred == 1))"
   ]
  },
  {
   "cell_type": "markdown",
   "id": "1d1df35d",
   "metadata": {},
   "source": [
    "#### Sanity Check for SVM"
   ]
  },
  {
   "cell_type": "code",
   "execution_count": null,
   "id": "4f402694",
   "metadata": {},
   "outputs": [
    {
     "name": "stdout",
     "output_type": "stream",
     "text": [
      "LogReg Class -1: 43\n",
      "LogReg Class +1: 1207\n"
     ]
    }
   ],
   "source": [
    "\n",
    "lr_model = LogisticRegression(max_iter=1000, class_weight=None)\n",
    "lr_model.fit(X_train_bal, y_train_bal)\n",
    "test_pred_lr = lr_model.predict(X_test_selected_bal)\n",
    "print(\"LogReg Class -1:\", np.sum(test_pred_lr == -1))\n",
    "print(\"LogReg Class +1:\", np.sum(test_pred_lr == 1))"
   ]
  },
  {
   "cell_type": "markdown",
   "id": "e0fa8ee5",
   "metadata": {},
   "source": [
    "**It's good sign actually to see LogisticRegression also predicting both classes**\n",
    "\n",
    "-- Now the data is learnable for both classes after smote \n",
    "\n",
    "-- I can see that both SVM and logistic regersstion are able to generalize to minority class but it's normal becasue in origanal train labeled data it's statically not 50/50 as we saw before it's  Count of label -1: 373\n",
    "Count of label 1: 3377 not good not bad but also we can work on it \n",
    "\n",
    "-- It's still heavily biased towards the majority class(+1) one of the solution in my brain now to lower decision threshold for class -1 "
   ]
  },
  {
   "cell_type": "code",
   "execution_count": 64,
   "id": "9e946f8a",
   "metadata": {},
   "outputs": [],
   "source": [
    "probs = lr_model.predict_proba(X_test_selected_bal)[:, np.where(lr_model.classes_ == -1)[0][0]]\n",
    "threshold = 0.3 \n",
    "test_pred_adjusted = np.where(probs > threshold, -1, 1)"
   ]
  },
  {
   "cell_type": "code",
   "execution_count": 65,
   "id": "394872a5",
   "metadata": {},
   "outputs": [
    {
     "name": "stdout",
     "output_type": "stream",
     "text": [
      "Adjusted Class -1: 59\n",
      "Adjusted Class +1: 1191\n"
     ]
    }
   ],
   "source": [
    "print(\"Adjusted Class -1:\", np.sum(test_pred_adjusted == -1))\n",
    "print(\"Adjusted Class +1:\", np.sum(test_pred_adjusted == 1))"
   ]
  },
  {
   "cell_type": "markdown",
   "id": "974f5e3c",
   "metadata": {},
   "source": [
    "-- Now we can tell this is more normal in mathemtical way but when we go in real world producation it's common to see imbalance problems for model to predict fewer minority class samples "
   ]
  },
  {
   "cell_type": "markdown",
   "id": "87e37f66",
   "metadata": {},
   "source": [
    "> “Both linear SVM and logistic regression when trained on smote balanced data and able to predict both classes in the test set that make the class imbalance problem has been effectively addressed also Non-linear models did not generalize well to the minority class because of the high dimensionality and the nature of the data. Cross-validation confirms the robustness of the linear models.”\n"
   ]
  },
  {
   "cell_type": "markdown",
   "id": "854f5d28",
   "metadata": {},
   "source": [
    "### Cross-Validation on SMOTE-Balanced Training Set with SVM Model "
   ]
  },
  {
   "cell_type": "code",
   "execution_count": 67,
   "id": "3f66b687",
   "metadata": {},
   "outputs": [],
   "source": [
    "from sklearn.model_selection import cross_val_predict, StratifiedKFold\n",
    "from sklearn.metrics import accuracy_score, roc_auc_score, f1_score, classification_report, confusion_matrix, roc_curve, auc\n",
    "import matplotlib.pyplot as plt\n",
    "import seaborn as sns\n",
    "import numpy as np\n",
    "\n",
    "# Use the same SVM model as before\n",
    "cv = StratifiedKFold(n_splits=5, shuffle=True, random_state=42)\n",
    "y_pred_cv = cross_val_predict(svm_model, X_train_bal, y_train_bal, cv=cv)\n"
   ]
  },
  {
   "cell_type": "code",
   "execution_count": 68,
   "id": "8f6e7944",
   "metadata": {},
   "outputs": [],
   "source": [
    "acc = accuracy_score(y_train_bal, y_pred_cv)"
   ]
  },
  {
   "cell_type": "code",
   "execution_count": 96,
   "id": "514956ae",
   "metadata": {},
   "outputs": [
    {
     "name": "stdout",
     "output_type": "stream",
     "text": [
      "0.9903760734379626\n"
     ]
    }
   ],
   "source": [
    "print(acc)"
   ]
  },
  {
   "cell_type": "code",
   "execution_count": 75,
   "id": "0619c57f",
   "metadata": {},
   "outputs": [
    {
     "data": {
      "text/plain": [
       "1.0"
      ]
     },
     "execution_count": 75,
     "metadata": {},
     "output_type": "execute_result"
    }
   ],
   "source": [
    "roc_auc = roc_auc_score(y_train_bal, svm_model.decision_function(X_train_bal))\n",
    "roc_auc"
   ]
  },
  {
   "cell_type": "code",
   "execution_count": 76,
   "id": "c3b3aaee",
   "metadata": {},
   "outputs": [
    {
     "data": {
      "text/plain": [
       "0.9902825534459561"
      ]
     },
     "execution_count": 76,
     "metadata": {},
     "output_type": "execute_result"
    }
   ],
   "source": [
    "f1 = f1_score(y_train_bal, y_pred_cv, pos_label=1)\n",
    "f1"
   ]
  },
  {
   "cell_type": "code",
   "execution_count": 77,
   "id": "41f2395a",
   "metadata": {},
   "outputs": [
    {
     "data": {
      "text/plain": [
       "0.9904678105294031"
      ]
     },
     "execution_count": 77,
     "metadata": {},
     "output_type": "execute_result"
    }
   ],
   "source": [
    "f1_neg = f1_score(y_train_bal, y_pred_cv, pos_label=-1)\n",
    "f1_neg"
   ]
  },
  {
   "cell_type": "code",
   "execution_count": 79,
   "id": "d967f30e",
   "metadata": {},
   "outputs": [
    {
     "name": "stdout",
     "output_type": "stream",
     "text": [
      "              precision    recall  f1-score   support\n",
      "\n",
      "    Class -1       0.98      1.00      0.99      3377\n",
      "    Class +1       1.00      0.98      0.99      3377\n",
      "\n",
      "    accuracy                           0.99      6754\n",
      "   macro avg       0.99      0.99      0.99      6754\n",
      "weighted avg       0.99      0.99      0.99      6754\n",
      "\n"
     ]
    }
   ],
   "source": [
    "report = classification_report(y_train_bal, y_pred_cv, target_names=['Class -1', 'Class +1'])\n",
    "print(report)"
   ]
  },
  {
   "cell_type": "code",
   "execution_count": 80,
   "id": "36144c07",
   "metadata": {},
   "outputs": [
    {
     "data": {
      "text/plain": [
       "array([[3377,    0],\n",
       "       [  65, 3312]])"
      ]
     },
     "execution_count": 80,
     "metadata": {},
     "output_type": "execute_result"
    }
   ],
   "source": [
    "cm = confusion_matrix(y_train_bal, y_pred_cv)\n",
    "cm"
   ]
  },
  {
   "cell_type": "code",
   "execution_count": 87,
   "id": "4629e298",
   "metadata": {},
   "outputs": [
    {
     "data": {
      "image/png": "[encoded data removed]",
      "text/plain": [
       "<Figure size 500x400 with 2 Axes>"
      ]
     },
     "metadata": {},
     "output_type": "display_data"
    }
   ],
   "source": [
    "plt.figure(figsize=(5,4))\n",
    "sns.heatmap(cm, annot=True, fmt='d', cmap='Blues', xticklabels=train_labels, yticklabels=train_labels)\n",
    "plt.title('Confusion Matrix (5-Fold CV on SMOTE Data)')\n",
    "plt.xlabel('Predicted')\n",
    "plt.ylabel('Actual')\n",
    "plt.show()"
   ]
  },
  {
   "cell_type": "markdown",
   "id": "3be2732e",
   "metadata": {},
   "source": [
    "    -- First as we see that No false postitives as the model never predicts +1 when the true label is -1\n",
    "\n",
    "    -- Some False Negatives about 65 times the models predicts -1 when the true is +1 \n",
    "\n",
    "    -- Seeing high true negative and true positive the model is accurate on both classes in SMOTE-balanced training set "
   ]
  },
  {
   "cell_type": "code",
   "execution_count": 95,
   "id": "f3ecab07",
   "metadata": {},
   "outputs": [],
   "source": [
    "y_score = svm_model.decision_function(X_train_bal)\n",
    "fpr, tpr, thresholds = roc_curve(y_train_bal, y_score, pos_label=1)\n",
    "roc_auc_val = auc(fpr, tpr)"
   ]
  },
  {
   "cell_type": "code",
   "execution_count": 89,
   "id": "53eadb2f",
   "metadata": {},
   "outputs": [
    {
     "data": {
      "image/png": "[encoded data removed]",
      "text/plain": [
       "<Figure size 600x500 with 1 Axes>"
      ]
     },
     "metadata": {},
     "output_type": "display_data"
    }
   ],
   "source": [
    "plt.figure(figsize=(6,5))\n",
    "plt.plot(fpr, tpr, color='darkorange', lw=2, label=f'ROC curve (area = {roc_auc_val:.2f})')\n",
    "plt.plot([0, 1], [0, 1], color='navy', lw=2, linestyle='--')\n",
    "plt.xlim([0.0, 1.0])\n",
    "plt.ylim([0.0, 1.05])\n",
    "plt.xlabel('False Positive Rate')\n",
    "plt.ylabel('True Positive Rate')\n",
    "plt.title('Receiver Operating Characteristic (ROC) Curve')\n",
    "plt.legend(loc=\"lower right\")\n",
    "plt.show()"
   ]
  },
  {
   "cell_type": "code",
   "execution_count": null,
   "id": "d9611b9d",
   "metadata": {},
   "outputs": [
    {
     "name": "stdout",
     "output_type": "stream",
     "text": [
      "=== SVM Cross-Validation Metrics on SMOTE-Balanced Training Set ===\n",
      "Accuracy: 0.9904\n",
      "ROC-AUC: 1.0000\n",
      "F1 Score (Class +1): 0.9903\n",
      "F1 Score (Class -1): 0.9905\n",
      "\n",
      "Classification Report:\n",
      "               precision    recall  f1-score   support\n",
      "\n",
      "    Class -1       0.98      1.00      0.99      3377\n",
      "    Class +1       1.00      0.98      0.99      3377\n",
      "\n",
      "    accuracy                           0.99      6754\n",
      "   macro avg       0.99      0.99      0.99      6754\n",
      "weighted avg       0.99      0.99      0.99      6754\n",
      "\n"
     ]
    }
   ],
   "source": [
    "print(f\"Accuracy: {acc:.4f}\")\n",
    "print(f\"ROC-AUC: {roc_auc:.4f}\")\n",
    "print(f\"F1 Score (Class +1): {f1:.4f}\")\n",
    "print(f\"F1 Score (Class -1): {f1_neg:.4f}\")\n",
    "print(\"\\nClassification Report:\\n\", report)"
   ]
  },
  {
   "cell_type": "markdown",
   "id": "dd938e1a",
   "metadata": {},
   "source": [
    "    -- Some Interpretation after seeing all metrices \n",
    "\n",
    "* on the smote balances training set SVM is nearly perfect \n",
    "\n",
    "* This is expected on SMOTE data, since the classes are perfectly balanced and synthetic samples may be easier to classify.\n",
    "\n",
    "* From my prespective in real-world test performance will likely be lower, especially for the minority class, as seen in your test predictions.\n"
   ]
  },
  {
   "cell_type": "markdown",
   "id": "c88cfc4d",
   "metadata": {},
   "source": [
    "### Cross-Validation on SMOTE-Balanced Training Set with Logistic Regression Model "
   ]
  },
  {
   "cell_type": "code",
   "execution_count": 97,
   "id": "042fc50d",
   "metadata": {},
   "outputs": [],
   "source": [
    "cv = StratifiedKFold(n_splits=5, shuffle=True, random_state=42)\n",
    "y_pred_cv_lr = cross_val_predict(lr_model, X_train_bal, y_train_bal, cv=cv)\n"
   ]
  },
  {
   "cell_type": "code",
   "execution_count": 98,
   "id": "69067986",
   "metadata": {},
   "outputs": [],
   "source": [
    "# Fit on the whole balanced training set for ROC curve\n",
    "lr_model.fit(X_train_bal, y_train_bal)\n",
    "y_score_lr = lr_model.decision_function(X_train_bal)"
   ]
  },
  {
   "cell_type": "code",
   "execution_count": 99,
   "id": "b398318e",
   "metadata": {},
   "outputs": [],
   "source": [
    "acc_lr = accuracy_score(y_train_bal, y_pred_cv_lr)"
   ]
  },
  {
   "cell_type": "code",
   "execution_count": 100,
   "id": "c17b441b",
   "metadata": {},
   "outputs": [
    {
     "name": "stdout",
     "output_type": "stream",
     "text": [
      "0.9820846905537459\n"
     ]
    }
   ],
   "source": [
    "print(acc_lr)"
   ]
  },
  {
   "cell_type": "code",
   "execution_count": 101,
   "id": "0fa6e604",
   "metadata": {},
   "outputs": [
    {
     "data": {
      "text/plain": [
       "1.0"
      ]
     },
     "execution_count": 101,
     "metadata": {},
     "output_type": "execute_result"
    }
   ],
   "source": [
    "roc_auc_lr = roc_auc_score(y_train_bal, y_score_lr)\n",
    "roc_auc_lr"
   ]
  },
  {
   "cell_type": "code",
   "execution_count": null,
   "id": "2110aeb7",
   "metadata": {},
   "outputs": [
    {
     "data": {
      "text/plain": [
       "0.9902825534459561"
      ]
     },
     "metadata": {},
     "output_type": "display_data"
    }
   ],
   "source": [
    "f1 = f1_score(y_train_bal, y_pred_cv, pos_label=1)\n",
    "f1"
   ]
  },
  {
   "cell_type": "code",
   "execution_count": 103,
   "id": "50f8befe",
   "metadata": {},
   "outputs": [
    {
     "data": {
      "text/plain": [
       "0.9817578772802653"
      ]
     },
     "execution_count": 103,
     "metadata": {},
     "output_type": "execute_result"
    }
   ],
   "source": [
    "f1_lr_pos = f1_score(y_train_bal, y_pred_cv_lr, pos_label=1)\n",
    "f1_lr_pos"
   ]
  },
  {
   "cell_type": "code",
   "execution_count": 104,
   "id": "10952d8c",
   "metadata": {},
   "outputs": [
    {
     "data": {
      "text/plain": [
       "0.9824"
      ]
     },
     "execution_count": 104,
     "metadata": {},
     "output_type": "execute_result"
    }
   ],
   "source": [
    "f1_lr_neg = f1_score(y_train_bal, y_pred_cv_lr, pos_label=-1)\n",
    "f1_lr_neg"
   ]
  },
  {
   "cell_type": "code",
   "execution_count": 105,
   "id": "982ce2c6",
   "metadata": {},
   "outputs": [
    {
     "name": "stdout",
     "output_type": "stream",
     "text": [
      "              precision    recall  f1-score   support\n",
      "\n",
      "    Class -1       0.97      1.00      0.98      3377\n",
      "    Class +1       1.00      0.96      0.98      3377\n",
      "\n",
      "    accuracy                           0.98      6754\n",
      "   macro avg       0.98      0.98      0.98      6754\n",
      "weighted avg       0.98      0.98      0.98      6754\n",
      "\n"
     ]
    }
   ],
   "source": [
    "report_lr = classification_report(y_train_bal, y_pred_cv_lr, target_names=['Class -1', 'Class +1'])\n",
    "print(report_lr)"
   ]
  },
  {
   "cell_type": "code",
   "execution_count": 106,
   "id": "39e97006",
   "metadata": {},
   "outputs": [
    {
     "data": {
      "text/plain": [
       "array([[3377,    0],\n",
       "       [ 121, 3256]])"
      ]
     },
     "execution_count": 106,
     "metadata": {},
     "output_type": "execute_result"
    }
   ],
   "source": [
    "cm_lr = confusion_matrix(y_train_bal, y_pred_cv_lr)\n",
    "cm_lr"
   ]
  },
  {
   "cell_type": "markdown",
   "id": "84261a3c",
   "metadata": {},
   "source": [
    "-- by vizualizing confusion matrix it will help us to see the model distingishes between the two classes after balancing"
   ]
  },
  {
   "cell_type": "code",
   "execution_count": 107,
   "id": "08f9b68a",
   "metadata": {},
   "outputs": [
    {
     "data": {
      "image/png": "[encoded data removed]",
      "text/plain": [
       "<Figure size 500x400 with 2 Axes>"
      ]
     },
     "metadata": {},
     "output_type": "display_data"
    }
   ],
   "source": [
    "plt.figure(figsize=(5,4))\n",
    "sns.heatmap(cm_lr, annot=True, fmt='d', cmap='Greens', xticklabels=['Class -1', 'Class +1'], yticklabels=['Class -1', 'Class +1'])\n",
    "plt.title('Confusion Matrix (Logistic Regression, 5-Fold CV on SMOTE Data)')\n",
    "plt.xlabel('Predicted')\n",
    "plt.ylabel('Actual')\n",
    "plt.show()"
   ]
  },
  {
   "cell_type": "markdown",
   "id": "99b5a51f",
   "metadata": {},
   "source": [
    "-- Somehow i see it same but some False Negatives about 121 times the models predicts -1 when the true is +1 \n"
   ]
  },
  {
   "cell_type": "code",
   "execution_count": 108,
   "id": "0c7d2560",
   "metadata": {},
   "outputs": [],
   "source": [
    "fpr_lr, tpr_lr, thresholds_lr = roc_curve(y_train_bal, y_score_lr, pos_label=1)\n",
    "roc_auc_val_lr = auc(fpr_lr, tpr_lr)"
   ]
  },
  {
   "cell_type": "code",
   "execution_count": 109,
   "id": "47529ea9",
   "metadata": {},
   "outputs": [
    {
     "data": {
      "image/png": "[encoded data removed]",
      "text/plain": [
       "<Figure size 600x500 with 1 Axes>"
      ]
     },
     "metadata": {},
     "output_type": "display_data"
    }
   ],
   "source": [
    "plt.figure(figsize=(6,5))\n",
    "plt.plot(fpr_lr, tpr_lr, color='darkorange', lw=2, label=f'ROC curve (area = {roc_auc_val_lr:.2f})')\n",
    "plt.plot([0, 1], [0, 1], color='navy', lw=2, linestyle='--')\n",
    "plt.xlim([0.0, 1.0])\n",
    "plt.ylim([0.0, 1.05])\n",
    "plt.xlabel('False Positive Rate')\n",
    "plt.ylabel('True Positive Rate')\n",
    "plt.title('ROC Curve (Logistic Regression, SMOTE Data)')\n",
    "plt.legend(loc=\"lower right\")\n",
    "plt.show()"
   ]
  },
  {
   "cell_type": "code",
   "execution_count": 111,
   "id": "6bba3dce",
   "metadata": {},
   "outputs": [
    {
     "name": "stdout",
     "output_type": "stream",
     "text": [
      "Accuracy: 0.9821\n",
      "ROC-AUC: 1.0000\n",
      "F1 Score (Class +1): 0.9818\n",
      "F1 Score (Class -1): 0.9824\n",
      "\n",
      "Classification Report:\n",
      "               precision    recall  f1-score   support\n",
      "\n",
      "    Class -1       0.97      1.00      0.98      3377\n",
      "    Class +1       1.00      0.96      0.98      3377\n",
      "\n",
      "    accuracy                           0.98      6754\n",
      "   macro avg       0.98      0.98      0.98      6754\n",
      "weighted avg       0.98      0.98      0.98      6754\n",
      "\n"
     ]
    }
   ],
   "source": [
    "print(f\"Accuracy: {acc_lr:.4f}\")\n",
    "print(f\"ROC-AUC: {roc_auc_lr:.4f}\")\n",
    "print(f\"F1 Score (Class +1): {f1_lr_pos:.4f}\")\n",
    "print(f\"F1 Score (Class -1): {f1_lr_neg:.4f}\")\n",
    "print(\"\\nClassification Report:\\n\", report_lr)"
   ]
  },
  {
   "cell_type": "markdown",
   "id": "f0c25020",
   "metadata": {},
   "source": [
    "> Model Selection for Production\n",
    ">\n",
    "> After extensive experimentation with various models and class balancing strategies, both linear SVM and logistic regression showing strong performance on the SMOTE-balanced training set and produced non-trivial predictions for both classes on the test set. Their results were very similar make the data is linearly separable after balancing.\n",
    ">\n",
    "> But i will deploying Logistic Regression for the following reasons:\n",
    "> - It provides well-calibrated probability outputs, which are valuable for downstream decision-making and risk assessment.\n",
    "> - It is highly interpretable, allowing us to explain predictions to stakeholders .\n",
    "> - It is computationally efficient and easy to maintain in production environments.\n",
    ">\n",
    "> SVM (linear) is a strong alternative and may be considered if maximizing the margin is a priority or if future data becomes less linearly separable. However, for this task, logistic regression offers the best balance of performance, interpretability, and operational simplicity.\n"
   ]
  },
  {
   "cell_type": "markdown",
   "id": "d3e2016b",
   "metadata": {},
   "source": [
    "## Generate test_labels.csv with Logistic Regression"
   ]
  },
  {
   "cell_type": "code",
   "execution_count": 116,
   "id": "9a148560",
   "metadata": {},
   "outputs": [],
   "source": [
    "X_test_selected_bal = feature_selector.transform(scaler.transform(variance_selector.transform(X_test)))\n",
    "test_pred_lr_final = lr_model.predict(X_test_selected_bal)\n",
    "predictions_df = pd.DataFrame(test_pred_lr_final, columns=['prediction'])\n",
    "predictions_df.to_csv('test_labels.csv', index=False, header=False)"
   ]
  },
  {
   "cell_type": "code",
   "execution_count": 117,
   "id": "e59e1de2",
   "metadata": {},
   "outputs": [
    {
     "data": {
      "text/plain": [
       "array([ 1, -1])"
      ]
     },
     "execution_count": 117,
     "metadata": {},
     "output_type": "execute_result"
    }
   ],
   "source": [
    "predictions_df['prediction'].unique()"
   ]
  },
  {
   "cell_type": "code",
   "execution_count": 118,
   "id": "511d3bd4",
   "metadata": {},
   "outputs": [
    {
     "name": "stdout",
     "output_type": "stream",
     "text": [
      "Class -1: 43\n",
      "Class +1: 1207\n",
      "Total predictions: 1250\n"
     ]
    }
   ],
   "source": [
    "print(f\"Class -1: {np.sum(test_pred_lr_final == -1)}\")\n",
    "print(f\"Class +1: {np.sum(test_pred_lr_final == 1)}\")\n",
    "print(f\"Total predictions: {len(test_pred_lr_final)}\")"
   ]
  }
 ],
 "metadata": {
  "kernelspec": {
   "display_name": "Python 3",
   "language": "python",
   "name": "python3"
  },
  "language_info": {
   "codemirror_mode": {
    "name": "ipython",
    "version": 3
   },
   "file_extension": ".py",
   "mimetype": "text/x-python",
   "name": "python",
   "nbconvert_exporter": "python",
   "pygments_lexer": "ipython3",
   "version": "3.10.16"
  }
 },
 "nbformat": 4,
 "nbformat_minor": 5
}
