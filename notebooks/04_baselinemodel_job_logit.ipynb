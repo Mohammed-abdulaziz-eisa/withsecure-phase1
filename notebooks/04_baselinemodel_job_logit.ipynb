{
 "cells": [
  {
   "cell_type": "code",
   "execution_count": 1,
   "id": "config-cell",
   "metadata": {},
   "outputs": [],
   "source": [
    "# Configuration\n",
    "PROCESSED_DATA_PATH = \"../data/processed/1_preprocessed_data.pkl\"\n",
    "MODEL_SAVE_PATH = \"../data/models/production/\"\n",
    "PREDICTIONS_OUTPUT_PATH = \"../data/predictions/\"\n",
    "\n",
    "# Model configuration\n",
    "MODEL_NAME = \"logistic_regression_production\"\n",
    "MODEL_VERSION = \"v0.1\"\n",
    "RANDOM_STATE = 42"
   ]
  },
  {
   "cell_type": "code",
   "execution_count": 2,
   "id": "imports-cell",
   "metadata": {},
   "outputs": [],
   "source": [
    "# Load packages\n",
    "import pandas as pd\n",
    "import numpy as np\n",
    "import pickle\n",
    "import joblib\n",
    "import os\n",
    "from pathlib import Path\n",
    "import warnings\n",
    "warnings.filterwarnings('ignore')\n",
    "\n",
    "from sklearn.linear_model import LogisticRegression\n",
    "from sklearn.model_selection import cross_val_predict\n",
    "from sklearn.metrics import (\n",
    "    accuracy_score, roc_auc_score, f1_score,\n",
    "    classification_report, confusion_matrix,\n",
    "    roc_curve, auc\n",
    ")\n",
    "\n",
    "import matplotlib.pyplot as plt\n",
    "import seaborn as sns\n",
    "\n",
    "# Set style\n",
    "plt.style.use('seaborn-v0_8')\n",
    "sns.set_palette(\"husl\")"
   ]
  },
  {
   "cell_type": "markdown",
   "id": "functions-header",
   "metadata": {},
   "source": [
    "## Functions"
   ]
  },
  {
   "cell_type": "code",
   "execution_count": 3,
   "id": "functions-cell",
   "metadata": {},
   "outputs": [],
   "source": [
    "def evaluate_model_performance(y_true, y_pred, y_score, model_name=\"Model\", plot_roc=True):\n",
    "    \"\"\"\n",
    "    Comprehensive model evaluation with metrics and visualizations.\n",
    "    \n",
    "    Parameters:\n",
    "    -----------\n",
    "    y_true : array-like\n",
    "        True labels\n",
    "    y_pred : array-like\n",
    "        Predicted labels\n",
    "    y_score : array-like\n",
    "        Prediction probabilities for positive class\n",
    "    model_name : str\n",
    "        Name of the model for display purposes\n",
    "    plot_roc : bool\n",
    "        Whether to plot ROC curve\n",
    "    \n",
    "    Returns:\n",
    "    --------\n",
    "    dict : Dictionary containing all metrics\n",
    "    \"\"\"\n",
    "    # Calculate metrics\n",
    "    acc = accuracy_score(y_true, y_pred)\n",
    "    roc_auc = roc_auc_score(y_true, y_score)\n",
    "    f1_pos = f1_score(y_true, y_pred, pos_label=1)\n",
    "    f1_neg = f1_score(y_true, y_pred, pos_label=-1)\n",
    "    \n",
    "    # Classification report\n",
    "    report = classification_report(y_true, y_pred, \n",
    "                                 target_names=['Class -1', 'Class +1'])\n",
    "    \n",
    "    # Confusion Matrix\n",
    "    cm = confusion_matrix(y_true, y_pred)\n",
    "    \n",
    "    # Plot confusion matrix\n",
    "    plt.figure(figsize=(8, 6))\n",
    "    sns.heatmap(cm, annot=True, fmt='d', cmap='Blues', \n",
    "                xticklabels=['Class -1', 'Class +1'], \n",
    "                yticklabels=['Class -1', 'Class +1'])\n",
    "    plt.title(f'Confusion Matrix ({model_name})')\n",
    "    plt.xlabel('Predicted')\n",
    "    plt.ylabel('Actual')\n",
    "    plt.tight_layout()\n",
    "    plt.show()\n",
    "    \n",
    "    # Plot ROC curve if requested\n",
    "    if plot_roc:\n",
    "        fpr, tpr, _ = roc_curve(y_true, y_score, pos_label=1)\n",
    "        roc_auc_val = auc(fpr, tpr)\n",
    "        \n",
    "        plt.figure(figsize=(8, 6))\n",
    "        plt.plot(fpr, tpr, color='darkorange', lw=2, \n",
    "                label=f'ROC curve (AUC = {roc_auc_val:.3f})')\n",
    "        plt.plot([0, 1], [0, 1], color='navy', lw=2, linestyle='--')\n",
    "        plt.xlim([0.0, 1.0])\n",
    "        plt.ylim([0.0, 1.05])\n",
    "        plt.xlabel('False Positive Rate')\n",
    "        plt.ylabel('True Positive Rate')\n",
    "        plt.title(f'ROC Curve ({model_name})')\n",
    "        plt.legend(loc=\"lower right\")\n",
    "        plt.grid(True, alpha=0.3)\n",
    "        plt.tight_layout()\n",
    "        plt.show()\n",
    "    \n",
    "    # Print metrics\n",
    "    print(f\"=== {model_name} Performance Metrics ===\")\n",
    "    print(f\"Accuracy: {acc:.4f}\")\n",
    "    print(f\"ROC-AUC: {roc_auc:.4f}\")\n",
    "    print(f\"F1 Score (Class +1): {f1_pos:.4f}\")\n",
    "    print(f\"F1 Score (Class -1): {f1_neg:.4f}\")\n",
    "    print(\"\\nClassification Report:\")\n",
    "    print(report)\n",
    "    \n",
    "    return {\n",
    "        'accuracy': acc,\n",
    "        'roc_auc': roc_auc,\n",
    "        'f1_positive': f1_pos,\n",
    "        'f1_negative': f1_neg,\n",
    "        'confusion_matrix': cm,\n",
    "        'classification_report': report\n",
    "    }\n",
    "\n",
    "def save_model_artifacts(model, preprocessors, metrics, model_path, model_name):\n",
    "    \"\"\"\n",
    "    Save model and associated artifacts for production deployment.\n",
    "    \n",
    "    Parameters:\n",
    "    -----------\n",
    "    model : sklearn model\n",
    "        Trained model object\n",
    "    preprocessors : dict\n",
    "        Dictionary containing preprocessing objects\n",
    "    metrics : dict\n",
    "        Dictionary containing model performance metrics\n",
    "    model_path : str\n",
    "        Directory path to save model artifacts\n",
    "    model_name : str\n",
    "        Name identifier for the model\n",
    "    \n",
    "    Returns:\n",
    "    --------\n",
    "    tuple : Paths to saved model, preprocessors, and metrics files\n",
    "    \"\"\"\n",
    "    # Create directory if it doesn't exist\n",
    "    Path(model_path).mkdir(parents=True, exist_ok=True)\n",
    "    \n",
    "    # Save model\n",
    "    model_file = os.path.join(model_path, f\"{model_name}_model.pkl\")\n",
    "    joblib.dump(model, model_file)\n",
    "    print(f\"Model saved to: {model_file}\")\n",
    "    \n",
    "    # Save preprocessors\n",
    "    preprocessors_file = os.path.join(model_path, f\"{model_name}_preprocessors.pkl\")\n",
    "    joblib.dump(preprocessors, preprocessors_file)\n",
    "    print(f\"Preprocessors saved to: {preprocessors_file}\")\n",
    "    \n",
    "    # Save metrics\n",
    "    metrics_file = os.path.join(model_path, f\"{model_name}_metrics.pkl\")\n",
    "    joblib.dump(metrics, metrics_file)\n",
    "    print(f\"Metrics saved to: {metrics_file}\")\n",
    "    \n",
    "    return model_file, preprocessors_file, metrics_file"
   ]
  },
  {
   "cell_type": "markdown",
   "id": "initialize-header",
   "metadata": {},
   "source": [
    "# Initialize"
   ]
  },
  {
   "cell_type": "markdown",
   "id": "directories-header",
   "metadata": {},
   "source": [
    "## Create directories"
   ]
  },
  {
   "cell_type": "code",
   "execution_count": 4,
   "id": "directories-cell",
   "metadata": {},
   "outputs": [
    {
     "name": "stdout",
     "output_type": "stream",
     "text": [
      "Model save directory: ../data/models/production/\n",
      "Predictions output directory: ../data/predictions/\n"
     ]
    }
   ],
   "source": [
    "# Create necessary directories\n",
    "Path(MODEL_SAVE_PATH).mkdir(parents=True, exist_ok=True)\n",
    "Path(PREDICTIONS_OUTPUT_PATH).mkdir(parents=True, exist_ok=True)\n",
    "\n",
    "print(f\"Model save directory: {MODEL_SAVE_PATH}\")\n",
    "print(f\"Predictions output directory: {PREDICTIONS_OUTPUT_PATH}\")"
   ]
  },
  {
   "cell_type": "markdown",
   "id": "load-data-header",
   "metadata": {},
   "source": [
    "## Load processed data"
   ]
  },
  {
   "cell_type": "code",
   "execution_count": 5,
   "id": "load-data-cell",
   "metadata": {},
   "outputs": [
    {
     "name": "stdout",
     "output_type": "stream",
     "text": [
      "Loading processed data...\n",
      "Available keys in processed data:\n",
      "  - X_train_original\n",
      "  - y_train_original\n",
      "  - X_train_balanced\n",
      "  - y_train_balanced\n",
      "  - y_train_transformed\n",
      "  - y_train_balanced_transformed\n",
      "  - X_test\n",
      "  - feature_selector\n",
      "  - scaler\n",
      "  - variance_selector\n",
      "  - xgb_label_encoder\n",
      "  - class_weight_dict\n",
      "  - scale_pos_weight\n",
      "  - smote\n"
     ]
    }
   ],
   "source": [
    "# Load processed data\n",
    "print(\"Loading processed data...\")\n",
    "with open(PROCESSED_DATA_PATH, 'rb') as f:\n",
    "    processed_data = pickle.load(f)\n",
    "\n",
    "print(\"Available keys in processed data:\")\n",
    "for key in processed_data.keys():\n",
    "    print(f\"  - {key}\")"
   ]
  },
  {
   "cell_type": "code",
   "execution_count": 6,
   "id": "unpack-data-cell",
   "metadata": {},
   "outputs": [
    {
     "name": "stdout",
     "output_type": "stream",
     "text": [
      "Training set shape: (6754, 2000)\n",
      "Test set shape: (1250, 2000)\n",
      "Class distribution in training set:\n",
      "-1    3377\n",
      " 1    3377\n",
      "Name: count, dtype: int64\n"
     ]
    }
   ],
   "source": [
    "# Unpack data components\n",
    "X_train_balanced = processed_data['X_train_balanced']\n",
    "y_train_balanced = processed_data['y_train_balanced']\n",
    "X_test = processed_data['X_test']\n",
    "\n",
    "# Preprocessing components\n",
    "feature_selector = processed_data['feature_selector']\n",
    "scaler = processed_data['scaler']\n",
    "variance_selector = processed_data['variance_selector']\n",
    "\n",
    "print(f\"Training set shape: {X_train_balanced.shape}\")\n",
    "print(f\"Test set shape: {X_test.shape}\")\n",
    "print(f\"Class distribution in training set:\")\n",
    "print(pd.Series(y_train_balanced).value_counts().sort_index())"
   ]
  },
  {
   "cell_type": "markdown",
   "id": "model-training-header",
   "metadata": {},
   "source": [
    "# Model Training & Validation"
   ]
  },
  {
   "cell_type": "markdown",
   "id": "logistic-header",
   "metadata": {},
   "source": [
    "## Logistic Regression - Production Model"
   ]
  },
  {
   "cell_type": "code",
   "execution_count": 7,
   "id": "train-lr-cell",
   "metadata": {},
   "outputs": [
    {
     "name": "stdout",
     "output_type": "stream",
     "text": [
      "Training Logistic Regression model...\n",
      "Model training completed.\n",
      "Model parameters: {'C': 1.0, 'class_weight': 'balanced', 'dual': False, 'fit_intercept': True, 'intercept_scaling': 1, 'l1_ratio': None, 'max_iter': 1000, 'multi_class': 'deprecated', 'n_jobs': None, 'penalty': 'l2', 'random_state': 42, 'solver': 'liblinear', 'tol': 0.0001, 'verbose': 0, 'warm_start': False}\n"
     ]
    }
   ],
   "source": [
    "# Initialize and train Logistic Regression model\n",
    "print(\"Training Logistic Regression model...\")\n",
    "\n",
    "lr_model = LogisticRegression(\n",
    "    random_state=RANDOM_STATE,\n",
    "    max_iter=1000,\n",
    "    solver='liblinear',\n",
    "    class_weight='balanced'\n",
    ")\n",
    "\n",
    "# Fit the model\n",
    "lr_model.fit(X_train_balanced, y_train_balanced)\n",
    "\n",
    "print(f\"Model training completed.\")\n",
    "print(f\"Model parameters: {lr_model.get_params()}\")"
   ]
  },
  {
   "cell_type": "markdown",
   "id": "cross-validation-header",
   "metadata": {},
   "source": [
    "## Cross-Validation Evaluation"
   ]
  },
  {
   "cell_type": "code",
   "execution_count": 8,
   "id": "cross-validation-cell",
   "metadata": {},
   "outputs": [
    {
     "name": "stdout",
     "output_type": "stream",
     "text": [
      "Performing 5-fold cross-validation...\n",
      "Cross-validation completed.\n",
      "CV Predictions shape: (6754,)\n",
      "CV Scores shape: (6754,)\n"
     ]
    }
   ],
   "source": [
    "# Perform 5-fold cross-validation\n",
    "print(\"Performing 5-fold cross-validation...\")\n",
    "\n",
    "# Cross-validation predictions and probability scores\n",
    "y_pred_cv_lr = cross_val_predict(lr_model, X_train_balanced, y_train_balanced, cv=5)\n",
    "y_score_lr = cross_val_predict(lr_model, X_train_balanced, y_train_balanced, \n",
    "                              cv=5, method='predict_proba')[:, 1]\n",
    "\n",
    "print(\"Cross-validation completed.\")\n",
    "print(f\"CV Predictions shape: {y_pred_cv_lr.shape}\")\n",
    "print(f\"CV Scores shape: {y_score_lr.shape}\")"
   ]
  },
  {
   "cell_type": "markdown",
   "id": "model-evaluation-header",
   "metadata": {},
   "source": [
    "## Model Performance Evaluation"
   ]
  },
  {
   "cell_type": "code",
   "execution_count": 9,
   "id": "evaluate-performance-cell",
   "metadata": {},
   "outputs": [
    {
     "data": {
      "image/png": "[encoded data removed]",
      "text/plain": [
       "<Figure size 800x600 with 2 Axes>"
      ]
     },
     "metadata": {},
     "output_type": "display_data"
    },
    {
     "data": {
      "image/png": "[encoded data removed]",
      "text/plain": [
       "<Figure size 800x600 with 1 Axes>"
      ]
     },
     "metadata": {},
     "output_type": "display_data"
    },
    {
     "name": "stdout",
     "output_type": "stream",
     "text": [
      "=== Logistic Regression (5-Fold CV on SMOTE Data) Performance Metrics ===\n",
      "Accuracy: 0.9689\n",
      "ROC-AUC: 0.9992\n",
      "F1 Score (Class +1): 0.9679\n",
      "F1 Score (Class -1): 0.9698\n",
      "\n",
      "Classification Report:\n",
      "              precision    recall  f1-score   support\n",
      "\n",
      "    Class -1       0.94      1.00      0.97      3377\n",
      "    Class +1       1.00      0.94      0.97      3377\n",
      "\n",
      "    accuracy                           0.97      6754\n",
      "   macro avg       0.97      0.97      0.97      6754\n",
      "weighted avg       0.97      0.97      0.97      6754\n",
      "\n"
     ]
    }
   ],
   "source": [
    "# Comprehensive model evaluation\n",
    "lr_metrics = evaluate_model_performance(\n",
    "    y_train_balanced, \n",
    "    y_pred_cv_lr, \n",
    "    y_score_lr,\n",
    "    model_name=\"Logistic Regression (5-Fold CV on SMOTE Data)\"\n",
    ")"
   ]
  },
  {
   "cell_type": "markdown",
   "id": "model-selection-header",
   "metadata": {},
   "source": [
    "# Model Selection for Production"
   ]
  },
  {
   "cell_type": "markdown",
   "id": "selection-rationale",
   "metadata": {},
   "source": [
    "## Selection Rationale\n",
    "\n",
    "After extensive experimentation with various models and class balancing strategies, both linear SVM and logistic regression showed strong performance on the SMOTE-balanced training set and produced non-trivial predictions for both classes on the test set. Their results were very similar, indicating the data is linearly separable after balancing.\n",
    "\n",
    "**Deploying Logistic Regression for the following reasons:**\n",
    "\n",
    "- **Probability Calibration**: Provides well-calibrated probability outputs, which are valuable for downstream decision-making and risk assessment\n",
    "- **Interpretability**: Highly interpretable, allowing us to explain predictions to stakeholders\n",
    "- **Computational Efficiency**: Computationally efficient and easy to maintain in production environments\n",
    "- **Operational Simplicity**: Offers the best balance of performance, interpretability, and operational simplicity\n",
    "\n",
    "**Alternative Consideration**: SVM (linear) is a strong alternative and may be considered if maximizing the margin is a priority or if future data becomes less linearly separable."
   ]
  },
  {
   "cell_type": "markdown",
   "id": "save-predictions-header",
   "metadata": {},
   "source": [
    "## Generating predictions "
   ]
  },
  {
   "cell_type": "markdown",
   "id": "be82d352",
   "metadata": {},
   "source": [
    "-- we don't need here the notebooks explains the problem and justifies your way of\n",
    "getting to the final solution but in `src` we have all steps to generate predication `test_labels.csv`"
   ]
  }
 ],
 "metadata": {
  "kernelspec": {
   "display_name": "deepseek-mac",
   "language": "python",
   "name": "python3"
  },
  "language_info": {
   "codemirror_mode": {
    "name": "ipython",
    "version": 3
   },
   "file_extension": ".py",
   "mimetype": "text/x-python",
   "name": "python",
   "nbconvert_exporter": "python",
   "pygments_lexer": "ipython3",
   "version": "3.10.18"
  }
 },
 "nbformat": 4,
 "nbformat_minor": 5
}
