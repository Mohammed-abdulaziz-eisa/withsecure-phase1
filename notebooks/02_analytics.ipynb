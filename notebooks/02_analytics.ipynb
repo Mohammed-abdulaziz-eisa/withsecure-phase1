{
  "cells": [
    {
      "cell_type": "markdown",
      "metadata": {},
      "source": [
        "# 01 - Statistical Analysis & Feature Engineering\n",
        "\n",
        "**Objective**: Perform statistical analysis, feature engineering, and prepare data for modeling.\n",
        "\n",
        "## Overview\n",
        "This notebook focuses on:\n",
        "- Statistical analysis of features\n",
        "- Feature engineering and transformation\n",
        "- Correlation analysis\n",
        "- Feature importance analysis\n",
        "- Data preprocessing strategies\n",
        "\n",
        "---"
      ]
    },
    {
      "cell_type": "code",
      "execution_count": 5,
      "metadata": {},
      "outputs": [],
      "source": [
        "# Constants\n",
        "TRAIN_DATA_PATH = '../data/train_data.csv'\n",
        "TRAIN_LABELS_PATH = '../data/train_labels.csv'\n",
        "TEST_DATA_PATH = '../data/test_data.csv'"
      ]
    },
    {
      "cell_type": "markdown",
      "metadata": {},
      "source": [
        "## 1. Setup and Imports"
      ]
    },
    {
      "cell_type": "code",
      "execution_count": 6,
      "metadata": {},
      "outputs": [],
      "source": [
        "# Standard data science imports\n",
        "import pandas as pd\n",
        "import numpy as np\n",
        "import matplotlib.pyplot as plt\n",
        "import seaborn as sns\n",
        "import warnings\n",
        "\n",
        "# Scikit-learn imports\n",
        "from sklearn.preprocessing import RobustScaler, StandardScaler\n",
        "from sklearn.feature_selection import VarianceThreshold, SelectKBest, f_classif\n",
        "from sklearn.utils.class_weight import compute_class_weight\n",
        "\n",
        "# Set random seed for reproducibility\n",
        "np.random.seed(42)\n",
        "\n",
        "# Configure plotting\n",
        "plt.style.use('default')\n",
        "sns.set_palette(\"husl\")\n",
        "warnings.filterwarnings('ignore')"
      ]
    },
    {
      "cell_type": "markdown",
      "metadata": {},
      "source": [
        "## 2. Data Loading"
      ]
    },
    {
      "cell_type": "code",
      "execution_count": 7,
      "metadata": {},
      "outputs": [
        {
          "name": "stdout",
          "output_type": "stream",
          "text": [
            "Training data shape: (3750, 10000)\n",
            "Training labels shape: (3750, 1)\n",
            "Test data shape: (1250, 10000)\n"
          ]
        }
      ],
      "source": [
        "# Read data and print shape\n",
        "train_data = pd.read_csv(TRAIN_DATA_PATH, header=None)\n",
        "train_labels = pd.read_csv(TRAIN_LABELS_PATH, header=None)\n",
        "test_data = pd.read_csv(TEST_DATA_PATH, header=None)\n",
        "\n",
        "print(f\"Training data shape: {train_data.shape}\")\n",
        "print(f\"Training labels shape: {train_labels.shape}\")\n",
        "print(f\"Test data shape: {test_data.shape}\")"
      ]
    },
    {
      "cell_type": "markdown",
      "metadata": {},
      "source": [
        "## 3. Statistical Analysis"
      ]
    },
    {
      "cell_type": "code",
      "execution_count": 10,
      "metadata": {},
      "outputs": [
        {
          "name": "stdout",
          "output_type": "stream",
          "text": [
            " Basic Statistics:\n",
            "==================================================\n",
            "Mean feature variance: 3130424.963\n",
            "Mean feature mean: 23.652\n",
            "Features with zero variance: 0\n",
            "Features with very low variance (<0.01): 0\n"
          ]
        }
      ],
      "source": [
        "# Basic statistics\n",
        "print(\" Basic Statistics:\")\n",
        "print(\"=\" * 50)\n",
        "print(f\"Mean feature variance: {train_data.var(axis=0).mean():.3f}\")\n",
        "print(f\"Mean feature mean: {train_data.mean(axis=0).mean():.3f}\")\n",
        "print(f\"Features with zero variance: {(train_data.var(axis=0) == 0).sum()}\")\n",
        "print(f\"Features with very low variance (<0.01): {(train_data.var(axis=0) < 0.01).sum()}\")\n",
        "\n"
      ]
    },
    {
      "cell_type": "code",
      "execution_count": 11,
      "metadata": {},
      "outputs": [
        {
          "name": "stdout",
          "output_type": "stream",
          "text": [
            "Class distribution:\n",
            "Class -1: 0    373\n",
            "dtype: int64 samples\n",
            "Class +1: 0    3377\n",
            "dtype: int64 samples\n",
            "\n",
            "Class imbalance ratio: 9.05:1\n",
            "Minority class percentage: 9.9%\n"
          ]
        }
      ],
      "source": [
        "# Calculate class distribution\n",
        "print(\"Class distribution:\")\n",
        "print(f\"Class -1: {np.sum(train_labels == -1)} samples\")\n",
        "print(f\"Class +1: {np.sum(train_labels == 1)} samples\")\n",
        "\n",
        "class_counts = np.array([np.sum(train_labels == -1), np.sum(train_labels == 1)])\n",
        "imbalance_ratio = float(class_counts[1] / class_counts[0])  # Convert to Python float\n",
        "print(f\"\\nClass imbalance ratio: {imbalance_ratio:.2f}:1\")\n",
        "print(f\"Minority class percentage: {float(class_counts[0] / len(train_labels) * 100):.1f}%\")\n"
      ]
    },
    {
      "cell_type": "markdown",
      "metadata": {},
      "source": [
        "## 4. Feature Engineering"
      ]
    },
    {
      "cell_type": "code",
      "execution_count": 12,
      "metadata": {},
      "outputs": [],
      "source": [
        "# Prepare data for feature engineering\n",
        "X_train = train_data.values\n",
        "y_train = train_labels\n",
        "X_test = test_data.values\n"
      ]
    },
    {
      "cell_type": "markdown",
      "metadata": {},
      "source": [
        "### 4.1 Remove Low-Variance Features"
      ]
    },
    {
      "cell_type": "code",
      "execution_count": 13,
      "metadata": {},
      "outputs": [
        {
          "name": "stdout",
          "output_type": "stream",
          "text": [
            "Removed 0 low-variance features\n",
            "Remaining: 10000 features\n"
          ]
        }
      ],
      "source": [
        "# Remove low-variance features\n",
        "variance_selector = VarianceThreshold(threshold=0.01)\n",
        "X_train_var = variance_selector.fit_transform(X_train)\n",
        "X_test_var = variance_selector.transform(X_test)\n",
        "\n",
        "removed_features = X_train.shape[1] - X_train_var.shape[1]\n",
        "print(f\"Removed {removed_features} low-variance features\")\n",
        "print(f\"Remaining: {X_train_var.shape[1]} features\")"
      ]
    },
    {
      "cell_type": "markdown",
      "metadata": {},
      "source": [
        "### 4.2 Feature Scaling"
      ]
    },
    {
      "cell_type": "code",
      "execution_count": 14,
      "metadata": {},
      "outputs": [],
      "source": [
        "# Feature scaling\n",
        "scaler = RobustScaler()\n",
        "X_train_scaled = scaler.fit_transform(X_train_var)\n",
        "X_test_scaled = scaler.transform(X_test_var)"
      ]
    },
    {
      "cell_type": "markdown",
      "metadata": {},
      "source": [
        "### 4.3 Feature Selection"
      ]
    },
    {
      "cell_type": "code",
      "execution_count": 15,
      "metadata": {},
      "outputs": [
        {
          "name": "stdout",
          "output_type": "stream",
          "text": [
            "Selected top 2000 most informative features\n"
          ]
        }
      ],
      "source": [
        "# Feature selection using F-test\n",
        "n_features_to_select = min(2000, X_train_scaled.shape[1])\n",
        "feature_selector = SelectKBest(score_func=f_classif, k=n_features_to_select)\n",
        "X_train_selected = feature_selector.fit_transform(X_train_scaled, y_train)\n",
        "X_test_selected = feature_selector.transform(X_test_scaled)\n",
        "\n",
        "print(f\"Selected top {X_train_selected.shape[1]} most informative features\")"
      ]
    },
    {
      "cell_type": "code",
      "execution_count": 16,
      "metadata": {},
      "outputs": [
        {
          "data": {
            "image/png": "[encoded data removed]",
            "text/plain": [
              "<Figure size 1200x500 with 2 Axes>"
            ]
          },
          "metadata": {},
          "output_type": "display_data"
        }
      ],
      "source": [
        "# Visualize feature importance\n",
        "feature_scores = feature_selector.scores_\n",
        "plt.figure(figsize=(12, 5))\n",
        "\n",
        "plt.subplot(1, 2, 1)\n",
        "plt.hist(feature_scores, bins=50, alpha=0.7, color='purple')\n",
        "plt.title('Distribution of Feature F-Scores')\n",
        "plt.xlabel('F-Score')\n",
        "plt.ylabel('Count')\n",
        "plt.axvline(x=np.sort(feature_scores)[-n_features_to_select], color='red', \n",
        "            linestyle='--', label=f'Selection threshold')\n",
        "plt.legend()\n",
        "\n",
        "plt.subplot(1, 2, 2)\n",
        "top_scores = np.sort(feature_scores)[::-1][:5000]\n",
        "plt.plot(top_scores)\n",
        "plt.title('Top Feature Scores (Ranked)')\n",
        "plt.xlabel('Feature Rank')\n",
        "plt.ylabel('F-Score')\n",
        "plt.axvline(x=n_features_to_select, color='red', linestyle='--', \n",
        "            label=f'Selected top {n_features_to_select}')\n",
        "plt.legend()\n",
        "\n",
        "plt.tight_layout()\n",
        "plt.show()"
      ]
    },
    {
      "cell_type": "markdown",
      "metadata": {},
      "source": [
        "## 5. Summary"
      ]
    },
    {
      "cell_type": "markdown",
      "metadata": {},
      "source": [
        "#### FEATURE SUMMARY:\n",
        "==================================================\n",
        "> Original features: 10000\n",
        "\n",
        "> After variance threshold: 10000\n",
        "\n",
        "> After feature selection: 2000 \n",
        "\n",
        "> Feature reduction: 80.0%\n",
        "\n",
        " ### Data ready for modeling with:\n",
        " \n",
        "• Robust scaling applied\n",
        "\n",
        "• Feature selection completed\n",
        "\n",
        "• Class weights computed\n",
        "\n",
        "• Ready for SMOTE balancing"
      ]
    }
  ],
  "metadata": {
    "kernelspec": {
      "display_name": "deepseek-mac",
      "language": "python",
      "name": "python3"
    },
    "language_info": {
      "codemirror_mode": {
        "name": "ipython",
        "version": 3
      },
      "file_extension": ".py",
      "mimetype": "text/x-python",
      "name": "python",
      "nbconvert_exporter": "python",
      "pygments_lexer": "ipython3",
      "version": "3.10.18"
    }
  },
  "nbformat": 4,
  "nbformat_minor": 4
}
